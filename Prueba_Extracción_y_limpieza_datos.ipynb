{
  "nbformat": 4,
  "nbformat_minor": 0,
  "metadata": {
    "colab": {
      "provenance": [],
      "authorship_tag": "ABX9TyN9+M5NhWShxiLQcKzU9djH",
      "include_colab_link": true
    },
    "kernelspec": {
      "name": "python3",
      "display_name": "Python 3"
    },
    "language_info": {
      "name": "python"
    }
  },
  "cells": [
    {
      "cell_type": "markdown",
      "metadata": {
        "id": "view-in-github",
        "colab_type": "text"
      },
      "source": [
        "<a href=\"https://colab.research.google.com/github/wlopezm-unal/Machine-learning/blob/main/Prueba_Extracci%C3%B3n_y_limpieza_datos.ipynb\" target=\"_parent\"><img src=\"https://colab.research.google.com/assets/colab-badge.svg\" alt=\"Open In Colab\"/></a>"
      ]
    },
    {
      "cell_type": "code",
      "execution_count": null,
      "metadata": {
        "id": "C0Bj2Vz7mxTz"
      },
      "outputs": [],
      "source": [
        "import requests\n",
        "import unicodedata\n",
        "from bs4 import BeautifulSoup\n",
        "import numpy as np\n",
        "import pandas as pd\n",
        "import requests\n",
        "import os\n",
        "import re\n"
      ]
    },
    {
      "cell_type": "code",
      "source": [
        "import requests\n",
        "from unicodedata import normalize\n",
        "import unicodedata\n",
        "import pandas as pd\n",
        "import os\n"
      ],
      "metadata": {
        "id": "V5wy4lOObKnc"
      },
      "execution_count": null,
      "outputs": []
    },
    {
      "cell_type": "markdown",
      "source": [
        "## Prueba 1\n",
        "\n",
        "Para esta prueba es necesario escribir un programa que pueda descargar un archivo de una URL, convertir todos\n",
        "\n",
        "los caracteres acentuados a sus equivalentes sin acentuar (p. ej. 'á' o se convierten en 'ñ' en h', en etc.)\n",
        "\n",
        "y retornar el archivo transformado en forma de un string. En términos formales, debe aplicar la forma de\n",
        "\n",
        "normalización de descomposición compatible (no canónica) de Unicode, y eliminar todos los caracteres que tienen\n",
        "\n",
        "una clase de combinación asignada.\n",
        "\n",
        "1. No debe modificar el nombre del archivo (test.py) ni de la función principal (ejercicio(str) -> str)\n",
        "\n",
        "2. No debe modificar la signatura (firma) de la función \"ejercicio\".\n",
        "\n",
        "3. No debe reemplazar caracteres que no sean acentos o combinaciones de Unicode (p. ej. g, etc).\n"
      ],
      "metadata": {
        "id": "XAIZPkyELXbe"
      }
    },
    {
      "cell_type": "code",
      "source": [
        "#cargar el dato de la url que es un formato tsv\n",
        "url='/content/test1_0.tsv'"
      ],
      "metadata": {
        "id": "ZtgkZGitPifj"
      },
      "execution_count": null,
      "outputs": []
    },
    {
      "cell_type": "code",
      "source": [
        "# Definir la función de normalización no canonica\n",
        "def normalize_unicode(text):\n",
        "    return ''.join(c for c in unicodedata.normalize('NFKD', text) if not unicodedata.combining(c))\n"
      ],
      "metadata": {
        "id": "SwGWAL_GLhOt"
      },
      "execution_count": null,
      "outputs": []
    },
    {
      "cell_type": "code",
      "source": [
        "#crear la función ejercicio para recibir la url y proceder aplicar la función normalize_unicode\n",
        "def ejercicio_1(url: str):\n",
        "\n",
        "  # # URL del archivo a descargar\n",
        "  # url = 'https://pidgin.nyc3.digitaloceanspaces.com/coderbyte/python_tests/test1_0.tsv'\n",
        "\n",
        "  #Cargar los datos\n",
        "  df = pd.read_csv(url, sep='\\t', engine='python')\n",
        "\n",
        "  # Realizar la solicitud de descarga\n",
        "  #response = requests.get(url)\n",
        "  #print(response.content)\n",
        "  # Verificar si la descarga fue exitosa\n",
        "  '''if response.status_code == 200:\n",
        "      # Guardar el contenido descargado en un archivo local\n",
        "      with open('test22_0.tsv', 'wb') as file:\n",
        "          file.write(response.content)\n",
        "\n",
        "      # Leer el archivo descargado en un DataFrame\n",
        "\n",
        "\n",
        "      # Mostrar el DataFrame resultante'''\n",
        "\n",
        "\n",
        "  # Aplicar to_string() para que quede en formato -> str\n",
        "  return  normalize_unicode(df.to_string())\n",
        "\n"
      ],
      "metadata": {
        "id": "W9R6rXO2LZY1"
      },
      "execution_count": null,
      "outputs": []
    },
    {
      "cell_type": "code",
      "source": [
        "#df = pd.read_csv(url, sep='\\t', engine='python')"
      ],
      "metadata": {
        "id": "djEDWyLSPzv0"
      },
      "execution_count": null,
      "outputs": []
    },
    {
      "cell_type": "code",
      "source": [
        "#iniciar la función para comprobar que  la función realizo la transformación\n",
        "ejercicio_1(url)"
      ],
      "metadata": {
        "colab": {
          "base_uri": "https://localhost:8080/",
          "height": 1000
        },
        "id": "cWTDRcn_Qxmy",
        "outputId": "e5d935d0-b034-45b4-b35e-c4f3233044a1"
      },
      "execution_count": null,
      "outputs": [
        {
          "output_type": "execute_result",
          "data": {
            "text/plain": [
              "'        nconst                            primaryName birthYear deathYear                                       primaryProfession                              knownForTitles\\n0   nm14316968                          Wolfgang Goth        \\\\N        \\\\N                                                     NaN                                  tt15276092\\n1    nm9194003                 Rodrigo Lopez Gonzalez        \\\\N        \\\\N                                                   actor                                   tt7207232\\n2   nm11725718                  Andres Mazaira Castro        \\\\N        \\\\N                                                     NaN                                          \\\\N\\n3   nm11775638                            Ute Schonke        \\\\N        \\\\N                                                 actress                                   tt0846838\\n4   nm10029946                     Can Sertac Adalier      1990        \\\\N                                                   actor   tt6137086,tt13708016,tt1886531,tt14639598\\n5   nm12226787                       Veronique Larmet        \\\\N        \\\\N                                                     NaN                                  tt13832726\\n6    nm1063716                            Angel Galan        \\\\N        \\\\N                                      make_up_department                         tt0278512,tt0289319\\n7    nm4796378                            Kenji Oishi        \\\\N        \\\\N                                    animation_department                         tt3565744,tt1679681\\n8    nm3831904                        Serio Fernandes        \\\\N        \\\\N                                 actor,producer,director    tt9377744,tt0082168,tt10526134,tt2055725\\n9    nm1876874                            Victor Jasa        \\\\N        \\\\N                                        sound_department                         tt1677568,tt0412701\\n10   nm9837396                       Daniel Jorgensen        \\\\N        \\\\N                                                     NaN                                          \\\\N\\n11   nm1814313                              Jose Rosa        \\\\N        \\\\N                                                   actor                                   tt0442989\\n12   nm2368090                             Fred Theze        \\\\N        \\\\N                                                composer                                   tt0383521\\n13  nm11559687                        Veronica Mancha        \\\\N        \\\\N                                                     NaN                                          \\\\N\\n14  nm11187891                            Balint Ladi        \\\\N        \\\\N                                       camera_department   tt13921588,tt22325698,tt2403776,tt4978420\\n15   nm9981357                              Cem Ozcan        \\\\N        \\\\N                                           miscellaneous                                   tt8716554\\n16  nm10651879                           Busra Pelent        \\\\N        \\\\N                                                 actress  tt13238304,tt8045936,tt14639598,tt15299654\\n17   nm1083360                            Yuki Nagata      1985        \\\\N                                                   actor     tt7446086,tt0303658,tt0202152,tt0092371\\n18  nm12183935                       Benjamin Hausler        \\\\N        \\\\N                                           set_decorator                                  tt13725506\\n19   nm0305625                 Antonio Garcia de Mora        \\\\N        \\\\N                                                   actor                                   tt0255679\\n20   nm9946935                       Jose Pena Donoso        \\\\N        \\\\N                        production_manager,miscellaneous               tt9842678,tt9471660,tt8649490\\n21  nm13936306                          Hakan Karagoz        \\\\N        \\\\N                                                   actor                                  tt19852660\\n22   nm2271370                 Mariangels Marti i Pol        \\\\N        \\\\N                                                     NaN                         tt0799694,tt1517109\\n23   nm3883640                   Maria Paz Bustamante        \\\\N        \\\\N                                         writer,producer                         tt1636807,tt1885373\\n24  nm10795782                             Roser Mari        \\\\N        \\\\N                                           miscellaneous                                   tt6563862\\n25   nm2598492                        Jarkko Gronroos        \\\\N        \\\\N                                                   actor  tt11558316,tt4309266,tt16271554,tt19755244\\n26   nm6896657                     Svetlana Kapralova        \\\\N        \\\\N                                           miscellaneous                                   tt0102519\\n27   nm2343183                           Analia Lopez        \\\\N        \\\\N                                                 actress                                   tt0839972\\n28  nm12733856                      Jose Antonio Mata        \\\\N        \\\\N                                          art_department                                  tt14979434\\n29   nm2791306                       Sennendo Taguchi        \\\\N        \\\\N                                                  writer                                   tt0988938\\n30  nm12133099                           Bjarte Sovik        \\\\N        \\\\N                                           miscellaneous                                   tt4106514\\n31   nm0664459                           Jose Pascual        \\\\N        \\\\N                                   director,actor,writer     tt0116194,tt0073338,tt1176921,tt0443963\\n32   nm2061812                       Jenny L. Saldana        \\\\N        \\\\N                                 actress,producer,writer               tt1645170,tt1937118,tt2170222\\n33   nm0695012                          Barbara Prado        \\\\N        \\\\N                                                 actress                                   tt0077959\\n34  nm13547005                          Analu Pimenta        \\\\N        \\\\N                                                 actress                                  tt19379004\\n35  nm13044861                           Gerard Merle        \\\\N        \\\\N                                                   actor                                   tt8847712\\n36   nm2305691                     Christophe Vericel        \\\\N        \\\\N                                                   actor   tt14140886,tt6063866,tt1821468,tt10738536\\n37   nm9608717                       Mairead McCarron        \\\\N        \\\\N                                                   actor                                   tt3203112\\n38   nm6087385          Juan Miguel Fernandez Bastida        \\\\N        \\\\N                                                   actor                                   tt2560988\\n39   nm2884734                        Zentaro Shibata        \\\\N        \\\\N                                                   actor    tt12494574,tt4489638,tt4415948,tt4489418\\n40   nm0844941                         Gladys Sanchez        \\\\N        \\\\N  casting_director,casting_department,production_manager     tt0223585,tt0284382,tt0260772,tt0207565\\n41   nm8180901                        Gundula Schafer        \\\\N        \\\\N                                                 actress                                   tt5764716\\n42  nm14022787                     Carlos Lugstenmann        \\\\N        \\\\N                                director,writer,producer                                  tt22005080\\n43   nm0617885                           Louis Moller        \\\\N        \\\\N                                                  writer    tt18952676,tt2426236,tt2432668,tt0007754\\n44  nm14769632                        Helena Kasalova        \\\\N        \\\\N                                                 actress                                  tt17067456\\n45  nm13421335                           Tomas Burian        \\\\N        \\\\N                                 director,actor,producer                                  tt18293868\\n46   nm8130658                         Brenda Sanchez        \\\\N        \\\\N                                      casting_department                                   tt5703068\\n47   nm2193318                         Juan Jose Ruiz        \\\\N        \\\\N                                                composer                                   tt0082882\\n48  nm12964455                        Irene Schonbein        \\\\N        \\\\N                                                     NaN                                          \\\\N\\n49   nm5412188                        Maurice Durufle      1902      1986                                     soundtrack,composer     tt0077907,tt1966583,tt2446980,tt7647022\\n50   nm1410851              Marivi Fernandez Palacios        \\\\N        \\\\N                                                     NaN     tt0372684,tt0424617,tt0373591,tt0372056\\n51  nm11885371                         Carolina Perez        \\\\N        \\\\N                                                     NaN                         tt6991820,tt5099272\\n52  nm14888045                       Ezechias Kossoko        \\\\N        \\\\N                                                composer                       tt27894922,tt27851218\\n53  nm12398711                          Elif Perincek        \\\\N        \\\\N                                                     NaN                                  tt14211024\\n54   nm4498618                         Jhesus Tribuzi        \\\\N        \\\\N                         cinematographer,writer,director   tt1954698,tt9064564,tt10297530,tt14256528\\n55   nm0701978                  Marisol Perez Nazabal        \\\\N        \\\\N                         miscellaneous,script_department     tt0106251,tt0103206,tt0108385,tt0164201\\n56   nm8012850                          Anna Bacikova        \\\\N        \\\\N                                                 actress                                   tt4764478\\n57   nm3582375                             Aniko Nagy        \\\\N        \\\\N                                      costume_department                                   tt0914798\\n58  nm11613674                         Jose Luis Dias        \\\\N        \\\\N                                                     NaN                                   tt0391706\\n59   nm3084365                   Daniel Navarro Munoz        \\\\N        \\\\N                                                   actor                                   tt0780587\\n60  nm10713134                     Michaela Moravcova        \\\\N        \\\\N                                                 actress                                          \\\\N\\n61  nm10370120                            Jurg Acklin      1945        \\\\N                                                     NaN     tt9537530,tt1131658,tt1022932,tt0880849\\n62   nm2525406                        Andreas Noßmann        \\\\N        \\\\N                                          art_department                                   tt0948717\\n63   nm7725725                        Tunde Al Hajjar        \\\\N        \\\\N                                                     NaN                                   tt5196184\\n64   nm9477017               Jordi Teixidor de Ventos        \\\\N        \\\\N                                                     NaN                                          \\\\N\\n65   nm8485557                          Hunor Turoczi        \\\\N        \\\\N                                                   actor                                   tt6113682\\n66   nm7709562                               Zoe Just        \\\\N        \\\\N                                        sound_department                                   tt5088652\\n67  nm11165443  Batalhao Sapadores Bombeiros do Porto        \\\\N        \\\\N                                                     NaN                                          \\\\N\\n68   nm1487518           Helmuth Meier-Lautenschlager        \\\\N        \\\\N                                                   actor                         tt0368071,tt1270256\\n69   nm3475371                        Heikki Etelapaa        \\\\N        \\\\N                                            writer,actor     tt0464348,tt1448549,tt1468064,tt2553998\\n70  nm13376358                Nicasio Antelo Martinez        \\\\N        \\\\N                                                producer                                  tt16155872\\n71  nm11073148                    Mari Carmen Saladie        \\\\N        \\\\N                                                 actress                                   tt9889002\\n72   nm6585273                      Bjorn Gunnar Vage        \\\\N        \\\\N                                                   actor                                   tt3820296\\n73   nm0351557                              Jan Guner        \\\\N        \\\\N                       music_department,actor,soundtrack     tt0090478,tt0093402,tt2923784,tt0085039\\n74   nm7112909          Juan Sebastian Acosta Pinilla        \\\\N        \\\\N                                        sound_department                                   tt4434240\\n75   nm8127242                        Kristian orsnæs        \\\\N        \\\\N                                  editor,director,writer                                   tt5685634\\n76  nm14226388                    Margarethe Voringer        \\\\N        \\\\N                                                     NaN                                   tt1555979\\n77   nm1417253                         Szabolcs Urban        \\\\N        \\\\N                                          producer,actor               tt0374417,tt0404625,tt7947134\\n78  nm12474773              David Alexander Gutierrez        \\\\N        \\\\N                                                   actor                                   tt6311902\\n79  nm12539291                  Patricia Arenal Galan        \\\\N        \\\\N                                                 actress                                  tt14573102\\n80   nm0133252                         Joaquin Campos        \\\\N        \\\\N                                                     NaN                                   tt0157359\\n81  nm14456790                       Francisco Garcia        \\\\N        \\\\N                                    editorial_department                                  tt21882076\\n82   nm4194634                          Julie Valkova        \\\\N        \\\\N                                                 actress     tt0924177,tt7058158,tt1321261,tt0437032\\n83   nm1602869                          Cecile Debise        \\\\N        \\\\N                                       camera_department                                   tt0400907\\n84   nm2569288                          Jon Magnusson        \\\\N        \\\\N                                                   actor                                   tt0365841\\n85  nm14069168                           Judith Konig      1964      2022                                                 actress                                  tt15301048\\n86   nm1041683                      V. Sanchez Fierro        \\\\N        \\\\N                                                   actor                                   tt0269014\\n87   nm1264092                             Gerd Rosch        \\\\N        \\\\N                                       camera_department                                   tt0846838\\n88  nm10728669                          Philip Moller        \\\\N        \\\\N                                                     NaN                                          \\\\N\\n89   nm4306201                        Jakub Bystricky        \\\\N        \\\\N                                                     NaN                        tt1354674,tt16283550\\n90   nm1254613                       Sebastian Landro        \\\\N        \\\\N                                                   actor                                   tt0333128\\n91   nm8065212                     Natalia Rojas Lema        \\\\N        \\\\N                                                   actor                                   tt5627374\\n92   nm2732045                              Aki Saito        \\\\N        \\\\N                                                 actress     tt0153340,tt4902866,tt6231718,tt0144403\\n93   nm1897122                    Francisco Fernandez        \\\\N        \\\\N                                       camera_department                                   tt0111071\\n94  nm14524210                          Sergio Habibe        \\\\N        \\\\N                                                     NaN                                  tt14917992\\n95   nm9159004             Abdul Mouhaiminou Compaore        \\\\N        \\\\N                                                  writer                                   tt7179930\\n96   nm2970883                         Aina Bergstrom        \\\\N        \\\\N                                                 actress                                   tt0014324\\n97  nm11966417                           Jorg Hartwig        \\\\N        \\\\N                                           miscellaneous                                  tt11421088\\n98  nm13657057                                    Ade        \\\\N        \\\\N                                                     NaN                                          \\\\N\\n99   nm2462565                      Johanna Naatsaari        \\\\N        \\\\N                                                 actress                                   tt0099089'"
            ],
            "application/vnd.google.colaboratory.intrinsic+json": {
              "type": "string"
            }
          },
          "metadata": {},
          "execution_count": 352
        }
      ]
    },
    {
      "cell_type": "code",
      "source": [
        "#Probar que la función normalize funciona\n",
        "#normalize_unicode(df.to_string())"
      ],
      "metadata": {
        "id": "5N4tbnCwLgDt"
      },
      "execution_count": null,
      "outputs": []
    },
    {
      "cell_type": "markdown",
      "source": [
        "### Prueba 2\n",
        "\n",
        "# Correcion de columnas mal formadas\n",
        "\n",
        "Para esta prueba es necesario escribir un programa que pueda descargar un archivo de una URL, leer cuáles de los valores de la primera\n",
        "\n",
        "columna tienen menos de IO caracteres, añadirles el dígito 0 en su tercera posición (p. ej. \"nm1234567• se convierte en \"nm01234567\"),\n",
        "\n",
        "y retornar el archivo transformado en forma de un string. Esto es, todos los valores de la primera columna •nconst• deben quedar de la\n",
        "\n",
        "misma longitud al terminar el ejercicio.\n",
        "\n",
        ".\n"
      ],
      "metadata": {
        "id": "RQwwLCHJZAwK"
      }
    },
    {
      "cell_type": "code",
      "source": [
        "import re"
      ],
      "metadata": {
        "id": "xSD1ke0qhSFk"
      },
      "execution_count": null,
      "outputs": []
    },
    {
      "cell_type": "code",
      "source": [
        "#obtener los datos de la url\n",
        "url='https://pidgin.nyc3.digitaloceanspaces.com/coderbyte/python_tests/test2_1.tsv'"
      ],
      "metadata": {
        "id": "hqlaM3u4jT_U"
      },
      "execution_count": null,
      "outputs": []
    },
    {
      "cell_type": "code",
      "source": [
        "#crear una función que realice el split para las dos primeras palabras y luego los números\n",
        "def funcion_split(data):\n",
        "  return re.split(r'([a-zA-Z]+)([0-9]*)', data)"
      ],
      "metadata": {
        "id": "MAtztffbIznO"
      },
      "execution_count": null,
      "outputs": []
    },
    {
      "cell_type": "code",
      "source": [
        "def ejercicio_2(url: str):\n",
        "  df_2 = pd.read_csv(url, delimiter='\\t', engine='python')\n",
        "\n",
        "  #Buscar y modificar las columnas  <10\n",
        "  #para añadir un '0' despues del segundo caracter, luego concatenar la columna 'nconst' con el retorno de la funcion split\n",
        "  for i in range(len(df_2['nconst'])):\n",
        "\n",
        "  #crear un if para comprobar el largo del string y solo realizar el split a cadenas <10\n",
        "    if len(df_2['nconst'][i])<10:\n",
        "      df_2['nconst'][i]=(funcion_split(df_2['nconst'][i])[1] +\n",
        "                         '0'+\n",
        "                         funcion_split( df_2['nconst'][i])[2])\n",
        "    else:\n",
        "      pass\n",
        "\n",
        "  return df_2\n"
      ],
      "metadata": {
        "id": "VSABgS2oa_Gu"
      },
      "execution_count": null,
      "outputs": []
    },
    {
      "cell_type": "code",
      "source": [
        "ejercicio_2('https://pidgin.nyc3.digitaloceanspaces.com/coderbyte/python_tests/test2_1.tsv')"
      ],
      "metadata": {
        "colab": {
          "base_uri": "https://localhost:8080/",
          "height": 424
        },
        "id": "CXGNzwHVc_Dl",
        "outputId": "571c8bd8-cd0f-4b5b-bf40-897e0d061b0b"
      },
      "execution_count": null,
      "outputs": [
        {
          "output_type": "execute_result",
          "data": {
            "text/plain": [
              "        nconst           primaryName birthYear deathYear  \\\n",
              "0   nm09838460    Inaki Diaz de Rada        \\N        \\N   \n",
              "1   nm04651694       Nathalie Vallee        \\N        \\N   \n",
              "2   nm02806175  Gyorgy Volosinovszki      1990        \\N   \n",
              "3   nm09620721         Gitte offeson        \\N        \\N   \n",
              "4   nm06612421          Paul Thitges        \\N        \\N   \n",
              "..         ...                   ...       ...       ...   \n",
              "95  nm01134751       Jose Luis Perez        \\N        \\N   \n",
              "96  nm14910175          Gaspar Zsolt        \\N        \\N   \n",
              "97  nm14316359     David Enriquez R.        \\N        \\N   \n",
              "98  nm08584927         Rasmus Troing        \\N        \\N   \n",
              "99  nm11154239         Trinc Gabriel        \\N        \\N   \n",
              "\n",
              "                   primaryProfession  \\\n",
              "0          producer,sound_department   \n",
              "1                            actress   \n",
              "2                              actor   \n",
              "3                            actress   \n",
              "4                                NaN   \n",
              "..                               ...   \n",
              "95                    art_department   \n",
              "96                costume_department   \n",
              "97                  music_department   \n",
              "98                               NaN   \n",
              "99  visual_effects,camera_department   \n",
              "\n",
              "                                knownForTitles  \n",
              "0                          tt8253560,tt8416342  \n",
              "1                                    tt0172057  \n",
              "2     tt0446224,tt6736832,tt15296562,tt0175383  \n",
              "3                                    tt6060746  \n",
              "4                                           \\N  \n",
              "..                                         ...  \n",
              "95     tt0103206,tt0459727,tt0415421,tt0451591  \n",
              "96                                  tt21098052  \n",
              "97                                   tt0492284  \n",
              "98                                          \\N  \n",
              "99  tt10234724,tt10648342,tt17502272,tt6208148  \n",
              "\n",
              "[100 rows x 6 columns]"
            ],
            "text/html": [
              "\n",
              "  <div id=\"df-2fdb090b-9eba-4b35-aef4-f9616f8ab288\">\n",
              "    <div class=\"colab-df-container\">\n",
              "      <div>\n",
              "<style scoped>\n",
              "    .dataframe tbody tr th:only-of-type {\n",
              "        vertical-align: middle;\n",
              "    }\n",
              "\n",
              "    .dataframe tbody tr th {\n",
              "        vertical-align: top;\n",
              "    }\n",
              "\n",
              "    .dataframe thead th {\n",
              "        text-align: right;\n",
              "    }\n",
              "</style>\n",
              "<table border=\"1\" class=\"dataframe\">\n",
              "  <thead>\n",
              "    <tr style=\"text-align: right;\">\n",
              "      <th></th>\n",
              "      <th>nconst</th>\n",
              "      <th>primaryName</th>\n",
              "      <th>birthYear</th>\n",
              "      <th>deathYear</th>\n",
              "      <th>primaryProfession</th>\n",
              "      <th>knownForTitles</th>\n",
              "    </tr>\n",
              "  </thead>\n",
              "  <tbody>\n",
              "    <tr>\n",
              "      <th>0</th>\n",
              "      <td>nm09838460</td>\n",
              "      <td>Inaki Diaz de Rada</td>\n",
              "      <td>\\N</td>\n",
              "      <td>\\N</td>\n",
              "      <td>producer,sound_department</td>\n",
              "      <td>tt8253560,tt8416342</td>\n",
              "    </tr>\n",
              "    <tr>\n",
              "      <th>1</th>\n",
              "      <td>nm04651694</td>\n",
              "      <td>Nathalie Vallee</td>\n",
              "      <td>\\N</td>\n",
              "      <td>\\N</td>\n",
              "      <td>actress</td>\n",
              "      <td>tt0172057</td>\n",
              "    </tr>\n",
              "    <tr>\n",
              "      <th>2</th>\n",
              "      <td>nm02806175</td>\n",
              "      <td>Gyorgy Volosinovszki</td>\n",
              "      <td>1990</td>\n",
              "      <td>\\N</td>\n",
              "      <td>actor</td>\n",
              "      <td>tt0446224,tt6736832,tt15296562,tt0175383</td>\n",
              "    </tr>\n",
              "    <tr>\n",
              "      <th>3</th>\n",
              "      <td>nm09620721</td>\n",
              "      <td>Gitte offeson</td>\n",
              "      <td>\\N</td>\n",
              "      <td>\\N</td>\n",
              "      <td>actress</td>\n",
              "      <td>tt6060746</td>\n",
              "    </tr>\n",
              "    <tr>\n",
              "      <th>4</th>\n",
              "      <td>nm06612421</td>\n",
              "      <td>Paul Thitges</td>\n",
              "      <td>\\N</td>\n",
              "      <td>\\N</td>\n",
              "      <td>NaN</td>\n",
              "      <td>\\N</td>\n",
              "    </tr>\n",
              "    <tr>\n",
              "      <th>...</th>\n",
              "      <td>...</td>\n",
              "      <td>...</td>\n",
              "      <td>...</td>\n",
              "      <td>...</td>\n",
              "      <td>...</td>\n",
              "      <td>...</td>\n",
              "    </tr>\n",
              "    <tr>\n",
              "      <th>95</th>\n",
              "      <td>nm01134751</td>\n",
              "      <td>Jose Luis Perez</td>\n",
              "      <td>\\N</td>\n",
              "      <td>\\N</td>\n",
              "      <td>art_department</td>\n",
              "      <td>tt0103206,tt0459727,tt0415421,tt0451591</td>\n",
              "    </tr>\n",
              "    <tr>\n",
              "      <th>96</th>\n",
              "      <td>nm14910175</td>\n",
              "      <td>Gaspar Zsolt</td>\n",
              "      <td>\\N</td>\n",
              "      <td>\\N</td>\n",
              "      <td>costume_department</td>\n",
              "      <td>tt21098052</td>\n",
              "    </tr>\n",
              "    <tr>\n",
              "      <th>97</th>\n",
              "      <td>nm14316359</td>\n",
              "      <td>David Enriquez R.</td>\n",
              "      <td>\\N</td>\n",
              "      <td>\\N</td>\n",
              "      <td>music_department</td>\n",
              "      <td>tt0492284</td>\n",
              "    </tr>\n",
              "    <tr>\n",
              "      <th>98</th>\n",
              "      <td>nm08584927</td>\n",
              "      <td>Rasmus Troing</td>\n",
              "      <td>\\N</td>\n",
              "      <td>\\N</td>\n",
              "      <td>NaN</td>\n",
              "      <td>\\N</td>\n",
              "    </tr>\n",
              "    <tr>\n",
              "      <th>99</th>\n",
              "      <td>nm11154239</td>\n",
              "      <td>Trinc Gabriel</td>\n",
              "      <td>\\N</td>\n",
              "      <td>\\N</td>\n",
              "      <td>visual_effects,camera_department</td>\n",
              "      <td>tt10234724,tt10648342,tt17502272,tt6208148</td>\n",
              "    </tr>\n",
              "  </tbody>\n",
              "</table>\n",
              "<p>100 rows × 6 columns</p>\n",
              "</div>\n",
              "      <button class=\"colab-df-convert\" onclick=\"convertToInteractive('df-2fdb090b-9eba-4b35-aef4-f9616f8ab288')\"\n",
              "              title=\"Convert this dataframe to an interactive table.\"\n",
              "              style=\"display:none;\">\n",
              "        \n",
              "  <svg xmlns=\"http://www.w3.org/2000/svg\" height=\"24px\"viewBox=\"0 0 24 24\"\n",
              "       width=\"24px\">\n",
              "    <path d=\"M0 0h24v24H0V0z\" fill=\"none\"/>\n",
              "    <path d=\"M18.56 5.44l.94 2.06.94-2.06 2.06-.94-2.06-.94-.94-2.06-.94 2.06-2.06.94zm-11 1L8.5 8.5l.94-2.06 2.06-.94-2.06-.94L8.5 2.5l-.94 2.06-2.06.94zm10 10l.94 2.06.94-2.06 2.06-.94-2.06-.94-.94-2.06-.94 2.06-2.06.94z\"/><path d=\"M17.41 7.96l-1.37-1.37c-.4-.4-.92-.59-1.43-.59-.52 0-1.04.2-1.43.59L10.3 9.45l-7.72 7.72c-.78.78-.78 2.05 0 2.83L4 21.41c.39.39.9.59 1.41.59.51 0 1.02-.2 1.41-.59l7.78-7.78 2.81-2.81c.8-.78.8-2.07 0-2.86zM5.41 20L4 18.59l7.72-7.72 1.47 1.35L5.41 20z\"/>\n",
              "  </svg>\n",
              "      </button>\n",
              "      \n",
              "  <style>\n",
              "    .colab-df-container {\n",
              "      display:flex;\n",
              "      flex-wrap:wrap;\n",
              "      gap: 12px;\n",
              "    }\n",
              "\n",
              "    .colab-df-convert {\n",
              "      background-color: #E8F0FE;\n",
              "      border: none;\n",
              "      border-radius: 50%;\n",
              "      cursor: pointer;\n",
              "      display: none;\n",
              "      fill: #1967D2;\n",
              "      height: 32px;\n",
              "      padding: 0 0 0 0;\n",
              "      width: 32px;\n",
              "    }\n",
              "\n",
              "    .colab-df-convert:hover {\n",
              "      background-color: #E2EBFA;\n",
              "      box-shadow: 0px 1px 2px rgba(60, 64, 67, 0.3), 0px 1px 3px 1px rgba(60, 64, 67, 0.15);\n",
              "      fill: #174EA6;\n",
              "    }\n",
              "\n",
              "    [theme=dark] .colab-df-convert {\n",
              "      background-color: #3B4455;\n",
              "      fill: #D2E3FC;\n",
              "    }\n",
              "\n",
              "    [theme=dark] .colab-df-convert:hover {\n",
              "      background-color: #434B5C;\n",
              "      box-shadow: 0px 1px 3px 1px rgba(0, 0, 0, 0.15);\n",
              "      filter: drop-shadow(0px 1px 2px rgba(0, 0, 0, 0.3));\n",
              "      fill: #FFFFFF;\n",
              "    }\n",
              "  </style>\n",
              "\n",
              "      <script>\n",
              "        const buttonEl =\n",
              "          document.querySelector('#df-2fdb090b-9eba-4b35-aef4-f9616f8ab288 button.colab-df-convert');\n",
              "        buttonEl.style.display =\n",
              "          google.colab.kernel.accessAllowed ? 'block' : 'none';\n",
              "\n",
              "        async function convertToInteractive(key) {\n",
              "          const element = document.querySelector('#df-2fdb090b-9eba-4b35-aef4-f9616f8ab288');\n",
              "          const dataTable =\n",
              "            await google.colab.kernel.invokeFunction('convertToInteractive',\n",
              "                                                     [key], {});\n",
              "          if (!dataTable) return;\n",
              "\n",
              "          const docLinkHtml = 'Like what you see? Visit the ' +\n",
              "            '<a target=\"_blank\" href=https://colab.research.google.com/notebooks/data_table.ipynb>data table notebook</a>'\n",
              "            + ' to learn more about interactive tables.';\n",
              "          element.innerHTML = '';\n",
              "          dataTable['output_type'] = 'display_data';\n",
              "          await google.colab.output.renderOutput(dataTable, element);\n",
              "          const docLink = document.createElement('div');\n",
              "          docLink.innerHTML = docLinkHtml;\n",
              "          element.appendChild(docLink);\n",
              "        }\n",
              "      </script>\n",
              "    </div>\n",
              "  </div>\n",
              "  "
            ]
          },
          "metadata": {},
          "execution_count": 80
        }
      ]
    },
    {
      "cell_type": "code",
      "source": [
        "\n",
        "prueba=pd.read_csv(url, delimiter='\\t', engine='python')"
      ],
      "metadata": {
        "id": "Mb7PdOI69B3g"
      },
      "execution_count": null,
      "outputs": []
    },
    {
      "cell_type": "code",
      "source": [
        "#comprobar que todos los datos de la columna poseen la misma longitud\n",
        "\n",
        "prueba_2=ejercicio_2('https://pidgin.nyc3.digitaloceanspaces.com/coderbyte/python_tests/test2_1.tsv')\n",
        "\n",
        "\n",
        "for i in range(len(prueba_2['nconst'])):\n",
        "  if len(prueba_2['nconst'][i])<10:\n",
        "    print('La cadena {} posee una longitud menor a 10')\n",
        "  else:\n",
        "    print('el documento {} tiene una longitud de: {}'.format(prueba_2['nconst'][i] , len(prueba_2['nconst'][i])))\n",
        "\n"
      ],
      "metadata": {
        "colab": {
          "base_uri": "https://localhost:8080/"
        },
        "id": "8MwcYAuOaXJn",
        "outputId": "dc2cdec0-dc8e-42e2-89b2-66825e141f21"
      },
      "execution_count": null,
      "outputs": [
        {
          "output_type": "stream",
          "name": "stdout",
          "text": [
            "el documento nm09838460 tiene una longitud de: 10\n",
            "el documento nm04651694 tiene una longitud de: 10\n",
            "el documento nm02806175 tiene una longitud de: 10\n",
            "el documento nm09620721 tiene una longitud de: 10\n",
            "el documento nm06612421 tiene una longitud de: 10\n",
            "el documento nm00146880 tiene una longitud de: 10\n",
            "el documento nm00401096 tiene una longitud de: 10\n",
            "el documento nm00635040 tiene una longitud de: 10\n",
            "el documento nm12972529 tiene una longitud de: 10\n",
            "el documento nm07921583 tiene una longitud de: 10\n",
            "el documento nm07733317 tiene una longitud de: 10\n",
            "el documento nm13875213 tiene una longitud de: 10\n",
            "el documento nm06803490 tiene una longitud de: 10\n",
            "el documento nm07358895 tiene una longitud de: 10\n",
            "el documento nm06502896 tiene una longitud de: 10\n",
            "el documento nm02054508 tiene una longitud de: 10\n",
            "el documento nm02530860 tiene una longitud de: 10\n",
            "el documento nm00847449 tiene una longitud de: 10\n",
            "el documento nm03214907 tiene una longitud de: 10\n",
            "el documento nm01937947 tiene una longitud de: 10\n",
            "el documento nm04627338 tiene una longitud de: 10\n",
            "el documento nm08928816 tiene una longitud de: 10\n",
            "el documento nm08322669 tiene una longitud de: 10\n",
            "el documento nm02065109 tiene una longitud de: 10\n",
            "el documento nm10085182 tiene una longitud de: 10\n",
            "el documento nm02622372 tiene una longitud de: 10\n",
            "el documento nm00423032 tiene una longitud de: 10\n",
            "el documento nm13905653 tiene una longitud de: 10\n",
            "el documento nm01305375 tiene una longitud de: 10\n",
            "el documento nm10961346 tiene una longitud de: 10\n",
            "el documento nm06429251 tiene una longitud de: 10\n",
            "el documento nm10575042 tiene una longitud de: 10\n",
            "el documento nm12355827 tiene una longitud de: 10\n",
            "el documento nm08661853 tiene una longitud de: 10\n",
            "el documento nm06299138 tiene una longitud de: 10\n",
            "el documento nm05021599 tiene una longitud de: 10\n",
            "el documento nm01302006 tiene una longitud de: 10\n",
            "el documento nm04834051 tiene una longitud de: 10\n",
            "el documento nm13285777 tiene una longitud de: 10\n",
            "el documento nm11605774 tiene una longitud de: 10\n",
            "el documento nm07915905 tiene una longitud de: 10\n",
            "el documento nm00664093 tiene una longitud de: 10\n",
            "el documento nm02320891 tiene una longitud de: 10\n",
            "el documento nm03120657 tiene una longitud de: 10\n",
            "el documento nm00575887 tiene una longitud de: 10\n",
            "el documento nm02135202 tiene una longitud de: 10\n",
            "el documento nm01796408 tiene una longitud de: 10\n",
            "el documento nm03024118 tiene una longitud de: 10\n",
            "el documento nm02166261 tiene una longitud de: 10\n",
            "el documento nm05314294 tiene una longitud de: 10\n",
            "el documento nm10110237 tiene una longitud de: 10\n",
            "el documento nm14359286 tiene una longitud de: 10\n",
            "el documento nm00257398 tiene una longitud de: 10\n",
            "el documento nm04487624 tiene una longitud de: 10\n",
            "el documento nm01800828 tiene una longitud de: 10\n",
            "el documento nm06039694 tiene una longitud de: 10\n",
            "el documento nm09954899 tiene una longitud de: 10\n",
            "el documento nm13331942 tiene una longitud de: 10\n",
            "el documento nm09271316 tiene una longitud de: 10\n",
            "el documento nm01329561 tiene una longitud de: 10\n",
            "el documento nm04923161 tiene una longitud de: 10\n",
            "el documento nm00665764 tiene una longitud de: 10\n",
            "el documento nm00530428 tiene una longitud de: 10\n",
            "el documento nm14031425 tiene una longitud de: 10\n",
            "el documento nm07509554 tiene una longitud de: 10\n",
            "el documento nm07965024 tiene una longitud de: 10\n",
            "el documento nm13282940 tiene una longitud de: 10\n",
            "el documento nm04405014 tiene una longitud de: 10\n",
            "el documento nm09615536 tiene una longitud de: 10\n",
            "el documento nm13416704 tiene una longitud de: 10\n",
            "el documento nm10387375 tiene una longitud de: 10\n",
            "el documento nm04392206 tiene una longitud de: 10\n",
            "el documento nm04107648 tiene una longitud de: 10\n",
            "el documento nm04568009 tiene una longitud de: 10\n",
            "el documento nm00508270 tiene una longitud de: 10\n",
            "el documento nm14031426 tiene una longitud de: 10\n",
            "el documento nm01174109 tiene una longitud de: 10\n",
            "el documento nm12510130 tiene una longitud de: 10\n",
            "el documento nm12527740 tiene una longitud de: 10\n",
            "el documento nm06296416 tiene una longitud de: 10\n",
            "el documento nm14558143 tiene una longitud de: 10\n",
            "el documento nm12828655 tiene una longitud de: 10\n",
            "el documento nm12998363 tiene una longitud de: 10\n",
            "el documento nm00862282 tiene una longitud de: 10\n",
            "el documento nm11103023 tiene una longitud de: 10\n",
            "el documento nm12297329 tiene una longitud de: 10\n",
            "el documento nm07139472 tiene una longitud de: 10\n",
            "el documento nm01177807 tiene una longitud de: 10\n",
            "el documento nm07702762 tiene una longitud de: 10\n",
            "el documento nm07346159 tiene una longitud de: 10\n",
            "el documento nm05785253 tiene una longitud de: 10\n",
            "el documento nm00885262 tiene una longitud de: 10\n",
            "el documento nm10490669 tiene una longitud de: 10\n",
            "el documento nm09055575 tiene una longitud de: 10\n",
            "el documento nm01051082 tiene una longitud de: 10\n",
            "el documento nm01134751 tiene una longitud de: 10\n",
            "el documento nm14910175 tiene una longitud de: 10\n",
            "el documento nm14316359 tiene una longitud de: 10\n",
            "el documento nm08584927 tiene una longitud de: 10\n",
            "el documento nm11154239 tiene una longitud de: 10\n"
          ]
        }
      ]
    },
    {
      "cell_type": "code",
      "source": [
        "#re.findall(r'[0-9]*', a)[2]"
      ],
      "metadata": {
        "colab": {
          "base_uri": "https://localhost:8080/",
          "height": 35
        },
        "id": "xX-TgaWeigUC",
        "outputId": "e6481fdb-c430-43d7-b6a2-736df21bd424"
      },
      "execution_count": null,
      "outputs": [
        {
          "output_type": "execute_result",
          "data": {
            "text/plain": [
              "'14316968'"
            ],
            "application/vnd.google.colaboratory.intrinsic+json": {
              "type": "string"
            }
          },
          "metadata": {},
          "execution_count": 429
        }
      ]
    },
    {
      "cell_type": "code",
      "source": [
        "#re.split(r'([a-zA-Z]+)([0-9]*)', a)"
      ],
      "metadata": {
        "colab": {
          "base_uri": "https://localhost:8080/"
        },
        "id": "a6ZjGaWCitTC",
        "outputId": "35b3f00d-fe62-475a-f0bd-425d2f805306"
      },
      "execution_count": null,
      "outputs": [
        {
          "output_type": "execute_result",
          "data": {
            "text/plain": [
              "['', 'nm', '14316968', '']"
            ]
          },
          "metadata": {},
          "execution_count": 428
        }
      ]
    },
    {
      "cell_type": "code",
      "source": [
        "'''df_2 = pd.read_csv(url, delimiter='\\t', engine='python')\n",
        "df_2['nconst']=(df_2['nconst'].str.split(r'([a-zA-Z]*)(\\D)', expand=True)[1] +\n",
        "                df_2['nconst'].str.split(r'([a-zA-Z]*)(\\D)', expand=True)[2] +\n",
        "                '0'+\n",
        "                df_2['nconst'].str.split(r'([a-zA-Z]*)(\\D)', expand=True)[3])\n",
        "\n",
        "df_2['nconst']\n",
        "df_2'''\n",
        "#a=re.search(r'\\w+2', df_2['nconst'])"
      ],
      "metadata": {
        "id": "ScoMauusfWwb"
      },
      "execution_count": null,
      "outputs": []
    },
    {
      "cell_type": "code",
      "source": [
        "'''df_2['nconst']=(funcion(df_2['nconst'])[1]+\n",
        "                funcion(df_2['nconst'])[2]+\n",
        "                '0'+\n",
        "                funcion(df_2['nconst'])[3])\n",
        "\n",
        "df_2'''"
      ],
      "metadata": {
        "id": "FbRDOb7cHfF-"
      },
      "execution_count": null,
      "outputs": []
    },
    {
      "cell_type": "code",
      "source": [
        "'''data=pd.read_csv(url, delimiter='\\t', engine='python')\n",
        "f=data['nconst'].str.split(r'nm', expand=True)\n",
        "f=f[1]\n",
        "g=pd.DataFrame(data['nconst'].str.split(r'[0-9]*', expand=True))\n",
        "\n",
        "#g=g.drop(0, axis=1)\n",
        "#g=g.drop(3, axis=1)\n",
        "#g=g.drop(4, axis=1)\n",
        "#g=g[1].str.cat(g[2])\n",
        "#g'''\n",
        "\n",
        "#data['nconst']=g[1]+g[2]+ '0'+ f\n",
        "\n",
        "#data['nconst']"
      ],
      "metadata": {
        "id": "NIGupV4FkQPU"
      },
      "execution_count": null,
      "outputs": []
    },
    {
      "cell_type": "markdown",
      "source": [
        "### Ejercicio 3\n",
        "# Separacion de una columna en varias\n",
        "\n",
        "Para esta prueba es necesario escribir un programa que pueda descargar un archivo de una URL, leer la última columna y detectar valores con comas, separar estos valores en hasta 3 nuevas columnas, añadir el valor \"\\N\" en las columnas que queden vacías, añadir los encabezados nuevos •knownForTitles2\", \"knownForTitles3\", \"knownForTitles4\", y retornar el archivo transformado en forma de un string. Esto es, una columna con los siguientes valores:\n",
        "\n",
        "knownForTit1es\n",
        "tt6991828, tt5899272\n",
        "\n",
        "Se convierte en las siguientes columnas:\n",
        "\n",
        "knownForTit1es knownForTit1es2 knownForTit1es3 knownForTit1es4\n",
        "\n",
        "tt6991828 tt5899272\n",
        "\n",
        "1. No debe modificar el nombre del archivo (test.py) ni de la función principal (ejercicio(str) -> str)\n",
        "\n",
        "2. No debe modificar la signatura (firma) de la función \"ejercicio\".\n",
        "\n",
        "3. Las demás columnas no deben ser modificadas.\n",
        "\n",
        "4. El archivo debe terminar con un salto de línea ('\\n).\n"
      ],
      "metadata": {
        "id": "iq4CMAVdSefd"
      }
    },
    {
      "cell_type": "code",
      "source": [
        "def ejercicio_3(url: str):\n",
        "\n",
        "  #cargar la documentación\n",
        "  df_3 = pd.read_csv(url, delimiter='\\t', engine='python')\n",
        "\n",
        "  #crear 4 columnas nuevas donde se desaloja la info\n",
        "  df_3.insert(6, 'knownForTitles2', value='\\\\N')\n",
        "  df_3.insert(7, 'knownForTitles3',value='\\\\N')\n",
        "  df_3.insert(8, 'knownForTitles4', value='\\\\N')\n",
        "\n",
        "  #generar el split expandido, y llenar las respectivas casillas con el split expandido\n",
        "  df_3[['knownForTitles', 'knownForTitles2', 'knownForTitles3', 'knownForTitles2']]=df_3['knownForTitles'].str.split(',', expand=True)\n",
        "\n",
        "  #cambiar los  None creados por el split por \\N\n",
        "  df_3=df_3.replace({None:'\\\\N'})\n",
        "\n",
        "  return df_3"
      ],
      "metadata": {
        "id": "0Vtr-gniZE3j"
      },
      "execution_count": null,
      "outputs": []
    },
    {
      "cell_type": "code",
      "source": [
        "ejercicio_3('/content/test3_0.tsv')"
      ],
      "metadata": {
        "colab": {
          "base_uri": "https://localhost:8080/",
          "height": 655
        },
        "id": "A-DkAU_MZcn6",
        "outputId": "d648badc-043a-4f6d-e992-df80b2e635c8"
      },
      "execution_count": null,
      "outputs": [
        {
          "output_type": "execute_result",
          "data": {
            "text/plain": [
              "        nconst                 primaryName birthYear deathYear  \\\n",
              "0   nm14316968               Wolfgang Goth        \\N        \\N   \n",
              "1   nm09194003      Rodrigo Lopez Gonzalez        \\N        \\N   \n",
              "2   nm11725718       Andres Mazaira Castro        \\N        \\N   \n",
              "3   nm11775638                 Ute Schonke        \\N        \\N   \n",
              "4   nm10029946          Can Sertac Adalier      1990        \\N   \n",
              "..         ...                         ...       ...       ...   \n",
              "95  nm09159004  Abdul Mouhaiminou Compaore        \\N        \\N   \n",
              "96  nm02970883              Aina Bergstrom        \\N        \\N   \n",
              "97  nm11966417                Jorg Hartwig        \\N        \\N   \n",
              "98  nm13657057                         Ade        \\N        \\N   \n",
              "99  nm02462565           Johanna Naatsaari        \\N        \\N   \n",
              "\n",
              "   primaryProfession knownForTitles knownForTitles2 knownForTitles3  \\\n",
              "0                 \\N     tt15276092              \\N              \\N   \n",
              "1              actor      tt7207232              \\N              \\N   \n",
              "2                 \\N             \\N              \\N              \\N   \n",
              "3            actress      tt0846838              \\N              \\N   \n",
              "4              actor      tt6137086      tt14639598       tt1886531   \n",
              "..               ...            ...             ...             ...   \n",
              "95            writer      tt7179930              \\N              \\N   \n",
              "96           actress      tt0014324              \\N              \\N   \n",
              "97     miscellaneous     tt11421088              \\N              \\N   \n",
              "98                \\N             \\N              \\N              \\N   \n",
              "99           actress      tt0099089              \\N              \\N   \n",
              "\n",
              "   knownForTitles4  \n",
              "0               \\N  \n",
              "1               \\N  \n",
              "2               \\N  \n",
              "3               \\N  \n",
              "4               \\N  \n",
              "..             ...  \n",
              "95              \\N  \n",
              "96              \\N  \n",
              "97              \\N  \n",
              "98              \\N  \n",
              "99              \\N  \n",
              "\n",
              "[100 rows x 9 columns]"
            ],
            "text/html": [
              "\n",
              "  <div id=\"df-85208f16-5db5-4fbb-b17b-673d14885d33\">\n",
              "    <div class=\"colab-df-container\">\n",
              "      <div>\n",
              "<style scoped>\n",
              "    .dataframe tbody tr th:only-of-type {\n",
              "        vertical-align: middle;\n",
              "    }\n",
              "\n",
              "    .dataframe tbody tr th {\n",
              "        vertical-align: top;\n",
              "    }\n",
              "\n",
              "    .dataframe thead th {\n",
              "        text-align: right;\n",
              "    }\n",
              "</style>\n",
              "<table border=\"1\" class=\"dataframe\">\n",
              "  <thead>\n",
              "    <tr style=\"text-align: right;\">\n",
              "      <th></th>\n",
              "      <th>nconst</th>\n",
              "      <th>primaryName</th>\n",
              "      <th>birthYear</th>\n",
              "      <th>deathYear</th>\n",
              "      <th>primaryProfession</th>\n",
              "      <th>knownForTitles</th>\n",
              "      <th>knownForTitles2</th>\n",
              "      <th>knownForTitles3</th>\n",
              "      <th>knownForTitles4</th>\n",
              "    </tr>\n",
              "  </thead>\n",
              "  <tbody>\n",
              "    <tr>\n",
              "      <th>0</th>\n",
              "      <td>nm14316968</td>\n",
              "      <td>Wolfgang Goth</td>\n",
              "      <td>\\N</td>\n",
              "      <td>\\N</td>\n",
              "      <td>\\N</td>\n",
              "      <td>tt15276092</td>\n",
              "      <td>\\N</td>\n",
              "      <td>\\N</td>\n",
              "      <td>\\N</td>\n",
              "    </tr>\n",
              "    <tr>\n",
              "      <th>1</th>\n",
              "      <td>nm09194003</td>\n",
              "      <td>Rodrigo Lopez Gonzalez</td>\n",
              "      <td>\\N</td>\n",
              "      <td>\\N</td>\n",
              "      <td>actor</td>\n",
              "      <td>tt7207232</td>\n",
              "      <td>\\N</td>\n",
              "      <td>\\N</td>\n",
              "      <td>\\N</td>\n",
              "    </tr>\n",
              "    <tr>\n",
              "      <th>2</th>\n",
              "      <td>nm11725718</td>\n",
              "      <td>Andres Mazaira Castro</td>\n",
              "      <td>\\N</td>\n",
              "      <td>\\N</td>\n",
              "      <td>\\N</td>\n",
              "      <td>\\N</td>\n",
              "      <td>\\N</td>\n",
              "      <td>\\N</td>\n",
              "      <td>\\N</td>\n",
              "    </tr>\n",
              "    <tr>\n",
              "      <th>3</th>\n",
              "      <td>nm11775638</td>\n",
              "      <td>Ute Schonke</td>\n",
              "      <td>\\N</td>\n",
              "      <td>\\N</td>\n",
              "      <td>actress</td>\n",
              "      <td>tt0846838</td>\n",
              "      <td>\\N</td>\n",
              "      <td>\\N</td>\n",
              "      <td>\\N</td>\n",
              "    </tr>\n",
              "    <tr>\n",
              "      <th>4</th>\n",
              "      <td>nm10029946</td>\n",
              "      <td>Can Sertac Adalier</td>\n",
              "      <td>1990</td>\n",
              "      <td>\\N</td>\n",
              "      <td>actor</td>\n",
              "      <td>tt6137086</td>\n",
              "      <td>tt14639598</td>\n",
              "      <td>tt1886531</td>\n",
              "      <td>\\N</td>\n",
              "    </tr>\n",
              "    <tr>\n",
              "      <th>...</th>\n",
              "      <td>...</td>\n",
              "      <td>...</td>\n",
              "      <td>...</td>\n",
              "      <td>...</td>\n",
              "      <td>...</td>\n",
              "      <td>...</td>\n",
              "      <td>...</td>\n",
              "      <td>...</td>\n",
              "      <td>...</td>\n",
              "    </tr>\n",
              "    <tr>\n",
              "      <th>95</th>\n",
              "      <td>nm09159004</td>\n",
              "      <td>Abdul Mouhaiminou Compaore</td>\n",
              "      <td>\\N</td>\n",
              "      <td>\\N</td>\n",
              "      <td>writer</td>\n",
              "      <td>tt7179930</td>\n",
              "      <td>\\N</td>\n",
              "      <td>\\N</td>\n",
              "      <td>\\N</td>\n",
              "    </tr>\n",
              "    <tr>\n",
              "      <th>96</th>\n",
              "      <td>nm02970883</td>\n",
              "      <td>Aina Bergstrom</td>\n",
              "      <td>\\N</td>\n",
              "      <td>\\N</td>\n",
              "      <td>actress</td>\n",
              "      <td>tt0014324</td>\n",
              "      <td>\\N</td>\n",
              "      <td>\\N</td>\n",
              "      <td>\\N</td>\n",
              "    </tr>\n",
              "    <tr>\n",
              "      <th>97</th>\n",
              "      <td>nm11966417</td>\n",
              "      <td>Jorg Hartwig</td>\n",
              "      <td>\\N</td>\n",
              "      <td>\\N</td>\n",
              "      <td>miscellaneous</td>\n",
              "      <td>tt11421088</td>\n",
              "      <td>\\N</td>\n",
              "      <td>\\N</td>\n",
              "      <td>\\N</td>\n",
              "    </tr>\n",
              "    <tr>\n",
              "      <th>98</th>\n",
              "      <td>nm13657057</td>\n",
              "      <td>Ade</td>\n",
              "      <td>\\N</td>\n",
              "      <td>\\N</td>\n",
              "      <td>\\N</td>\n",
              "      <td>\\N</td>\n",
              "      <td>\\N</td>\n",
              "      <td>\\N</td>\n",
              "      <td>\\N</td>\n",
              "    </tr>\n",
              "    <tr>\n",
              "      <th>99</th>\n",
              "      <td>nm02462565</td>\n",
              "      <td>Johanna Naatsaari</td>\n",
              "      <td>\\N</td>\n",
              "      <td>\\N</td>\n",
              "      <td>actress</td>\n",
              "      <td>tt0099089</td>\n",
              "      <td>\\N</td>\n",
              "      <td>\\N</td>\n",
              "      <td>\\N</td>\n",
              "    </tr>\n",
              "  </tbody>\n",
              "</table>\n",
              "<p>100 rows × 9 columns</p>\n",
              "</div>\n",
              "      <button class=\"colab-df-convert\" onclick=\"convertToInteractive('df-85208f16-5db5-4fbb-b17b-673d14885d33')\"\n",
              "              title=\"Convert this dataframe to an interactive table.\"\n",
              "              style=\"display:none;\">\n",
              "        \n",
              "  <svg xmlns=\"http://www.w3.org/2000/svg\" height=\"24px\"viewBox=\"0 0 24 24\"\n",
              "       width=\"24px\">\n",
              "    <path d=\"M0 0h24v24H0V0z\" fill=\"none\"/>\n",
              "    <path d=\"M18.56 5.44l.94 2.06.94-2.06 2.06-.94-2.06-.94-.94-2.06-.94 2.06-2.06.94zm-11 1L8.5 8.5l.94-2.06 2.06-.94-2.06-.94L8.5 2.5l-.94 2.06-2.06.94zm10 10l.94 2.06.94-2.06 2.06-.94-2.06-.94-.94-2.06-.94 2.06-2.06.94z\"/><path d=\"M17.41 7.96l-1.37-1.37c-.4-.4-.92-.59-1.43-.59-.52 0-1.04.2-1.43.59L10.3 9.45l-7.72 7.72c-.78.78-.78 2.05 0 2.83L4 21.41c.39.39.9.59 1.41.59.51 0 1.02-.2 1.41-.59l7.78-7.78 2.81-2.81c.8-.78.8-2.07 0-2.86zM5.41 20L4 18.59l7.72-7.72 1.47 1.35L5.41 20z\"/>\n",
              "  </svg>\n",
              "      </button>\n",
              "      \n",
              "  <style>\n",
              "    .colab-df-container {\n",
              "      display:flex;\n",
              "      flex-wrap:wrap;\n",
              "      gap: 12px;\n",
              "    }\n",
              "\n",
              "    .colab-df-convert {\n",
              "      background-color: #E8F0FE;\n",
              "      border: none;\n",
              "      border-radius: 50%;\n",
              "      cursor: pointer;\n",
              "      display: none;\n",
              "      fill: #1967D2;\n",
              "      height: 32px;\n",
              "      padding: 0 0 0 0;\n",
              "      width: 32px;\n",
              "    }\n",
              "\n",
              "    .colab-df-convert:hover {\n",
              "      background-color: #E2EBFA;\n",
              "      box-shadow: 0px 1px 2px rgba(60, 64, 67, 0.3), 0px 1px 3px 1px rgba(60, 64, 67, 0.15);\n",
              "      fill: #174EA6;\n",
              "    }\n",
              "\n",
              "    [theme=dark] .colab-df-convert {\n",
              "      background-color: #3B4455;\n",
              "      fill: #D2E3FC;\n",
              "    }\n",
              "\n",
              "    [theme=dark] .colab-df-convert:hover {\n",
              "      background-color: #434B5C;\n",
              "      box-shadow: 0px 1px 3px 1px rgba(0, 0, 0, 0.15);\n",
              "      filter: drop-shadow(0px 1px 2px rgba(0, 0, 0, 0.3));\n",
              "      fill: #FFFFFF;\n",
              "    }\n",
              "  </style>\n",
              "\n",
              "      <script>\n",
              "        const buttonEl =\n",
              "          document.querySelector('#df-85208f16-5db5-4fbb-b17b-673d14885d33 button.colab-df-convert');\n",
              "        buttonEl.style.display =\n",
              "          google.colab.kernel.accessAllowed ? 'block' : 'none';\n",
              "\n",
              "        async function convertToInteractive(key) {\n",
              "          const element = document.querySelector('#df-85208f16-5db5-4fbb-b17b-673d14885d33');\n",
              "          const dataTable =\n",
              "            await google.colab.kernel.invokeFunction('convertToInteractive',\n",
              "                                                     [key], {});\n",
              "          if (!dataTable) return;\n",
              "\n",
              "          const docLinkHtml = 'Like what you see? Visit the ' +\n",
              "            '<a target=\"_blank\" href=https://colab.research.google.com/notebooks/data_table.ipynb>data table notebook</a>'\n",
              "            + ' to learn more about interactive tables.';\n",
              "          element.innerHTML = '';\n",
              "          dataTable['output_type'] = 'display_data';\n",
              "          await google.colab.output.renderOutput(dataTable, element);\n",
              "          const docLink = document.createElement('div');\n",
              "          docLink.innerHTML = docLinkHtml;\n",
              "          element.appendChild(docLink);\n",
              "        }\n",
              "      </script>\n",
              "    </div>\n",
              "  </div>\n",
              "  "
            ]
          },
          "metadata": {},
          "execution_count": 317
        }
      ]
    },
    {
      "cell_type": "markdown",
      "source": [
        "### **Ejercicio 4**\n",
        "\n",
        "# Reemplazo de un valor por otro\n",
        "\n",
        "Para esta prueba es necesario escribir un programa que pueda descargar un archivo de una URL, reemplazar todas las cadenas \"\\N\" por \"NULL\", y retornar el archivo transformado en forma de un string.\n",
        "\n",
        "1. No debe modificar el nombre del archivo (test.py) ni de la función principal (ejercicio(str) -> str)\n",
        "\n",
        "2. No debe modificar la signatura (firma) de la función \"ejercicio\".\n",
        "\n",
        "3. El valor de reemplazo \"NULL\" debe estar en mayúscula sostenida.\n",
        "\n",
        "4. El archivo debe terminar con un salto de línea ('\\n).\n"
      ],
      "metadata": {
        "id": "lcuDxS8SAI6w"
      }
    },
    {
      "cell_type": "code",
      "source": [
        "#crear la función para el ejercicio 4\n",
        "#reemplazo de un"
      ],
      "metadata": {
        "id": "4NwGScXnSLqi"
      },
      "execution_count": null,
      "outputs": []
    },
    {
      "cell_type": "code",
      "source": [
        "def Ejercicio_4(url: str):\n",
        "  datos=url #cargar la url en una variable\n",
        "\n",
        "  #abrir el documento formato  tvs\n",
        "  df_4=pd.read_csv(datos, delimiter='\\t', engine='python')\n",
        "\n",
        "  #reemplazar todos los datos \\N por NUll\n",
        "  df_4=df_4.replace('\\\\N', 'NULL')\n",
        "\n",
        "  #Remplazar todos los None por Null\n",
        "  df_4=df_4.replace({None: 'NULL'})\n",
        "  return  df_4"
      ],
      "metadata": {
        "id": "pkNiRD8ASlCy"
      },
      "execution_count": null,
      "outputs": []
    },
    {
      "cell_type": "code",
      "source": [
        "#verificar que se cumplan los requerimientos del ejercicio\n",
        "Ejercicio_4('/content/test4_0.tsv')"
      ],
      "metadata": {
        "colab": {
          "base_uri": "https://localhost:8080/",
          "height": 655
        },
        "id": "KsnUkeGnUcM6",
        "outputId": "58ca2c66-91e8-44ba-b4e9-0631f1e70791"
      },
      "execution_count": null,
      "outputs": [
        {
          "output_type": "execute_result",
          "data": {
            "text/plain": [
              "        nconst                 primaryName birthYear deathYear  \\\n",
              "0   nm14316968               Wolfgang Goth      NULL      NULL   \n",
              "1   nm09194003      Rodrigo Lopez Gonzalez      NULL      NULL   \n",
              "2   nm11725718       Andres Mazaira Castro      NULL      NULL   \n",
              "3   nm11775638                 Ute Schonke      NULL      NULL   \n",
              "4   nm10029946          Can Sertac Adalier      1990      NULL   \n",
              "..         ...                         ...       ...       ...   \n",
              "95  nm09159004  Abdul Mouhaiminou Compaore      NULL      NULL   \n",
              "96  nm02970883              Aina Bergstrom      NULL      NULL   \n",
              "97  nm11966417                Jorg Hartwig      NULL      NULL   \n",
              "98  nm13657057                         Ade      NULL      NULL   \n",
              "99  nm02462565           Johanna Naatsaari      NULL      NULL   \n",
              "\n",
              "   primaryProfession knownForTitles knownForTitles2 knownForTitles3  \\\n",
              "0               NULL     tt15276092            NULL            NULL   \n",
              "1              actor      tt7207232            NULL            NULL   \n",
              "2               NULL           NULL            NULL            NULL   \n",
              "3            actress      tt0846838            NULL            NULL   \n",
              "4              actor      tt6137086      tt13708016       tt1886531   \n",
              "..               ...            ...             ...             ...   \n",
              "95            writer      tt7179930            NULL            NULL   \n",
              "96           actress      tt0014324            NULL            NULL   \n",
              "97     miscellaneous     tt11421088            NULL            NULL   \n",
              "98              NULL           NULL            NULL            NULL   \n",
              "99           actress      tt0099089            NULL            NULL   \n",
              "\n",
              "   knownForTitles4  \n",
              "0             NULL  \n",
              "1             NULL  \n",
              "2             NULL  \n",
              "3             NULL  \n",
              "4       tt14639598  \n",
              "..             ...  \n",
              "95            NULL  \n",
              "96            NULL  \n",
              "97            NULL  \n",
              "98            NULL  \n",
              "99            NULL  \n",
              "\n",
              "[100 rows x 9 columns]"
            ],
            "text/html": [
              "\n",
              "  <div id=\"df-583b41b9-9104-44ef-ba9c-31341c4b2958\">\n",
              "    <div class=\"colab-df-container\">\n",
              "      <div>\n",
              "<style scoped>\n",
              "    .dataframe tbody tr th:only-of-type {\n",
              "        vertical-align: middle;\n",
              "    }\n",
              "\n",
              "    .dataframe tbody tr th {\n",
              "        vertical-align: top;\n",
              "    }\n",
              "\n",
              "    .dataframe thead th {\n",
              "        text-align: right;\n",
              "    }\n",
              "</style>\n",
              "<table border=\"1\" class=\"dataframe\">\n",
              "  <thead>\n",
              "    <tr style=\"text-align: right;\">\n",
              "      <th></th>\n",
              "      <th>nconst</th>\n",
              "      <th>primaryName</th>\n",
              "      <th>birthYear</th>\n",
              "      <th>deathYear</th>\n",
              "      <th>primaryProfession</th>\n",
              "      <th>knownForTitles</th>\n",
              "      <th>knownForTitles2</th>\n",
              "      <th>knownForTitles3</th>\n",
              "      <th>knownForTitles4</th>\n",
              "    </tr>\n",
              "  </thead>\n",
              "  <tbody>\n",
              "    <tr>\n",
              "      <th>0</th>\n",
              "      <td>nm14316968</td>\n",
              "      <td>Wolfgang Goth</td>\n",
              "      <td>NULL</td>\n",
              "      <td>NULL</td>\n",
              "      <td>NULL</td>\n",
              "      <td>tt15276092</td>\n",
              "      <td>NULL</td>\n",
              "      <td>NULL</td>\n",
              "      <td>NULL</td>\n",
              "    </tr>\n",
              "    <tr>\n",
              "      <th>1</th>\n",
              "      <td>nm09194003</td>\n",
              "      <td>Rodrigo Lopez Gonzalez</td>\n",
              "      <td>NULL</td>\n",
              "      <td>NULL</td>\n",
              "      <td>actor</td>\n",
              "      <td>tt7207232</td>\n",
              "      <td>NULL</td>\n",
              "      <td>NULL</td>\n",
              "      <td>NULL</td>\n",
              "    </tr>\n",
              "    <tr>\n",
              "      <th>2</th>\n",
              "      <td>nm11725718</td>\n",
              "      <td>Andres Mazaira Castro</td>\n",
              "      <td>NULL</td>\n",
              "      <td>NULL</td>\n",
              "      <td>NULL</td>\n",
              "      <td>NULL</td>\n",
              "      <td>NULL</td>\n",
              "      <td>NULL</td>\n",
              "      <td>NULL</td>\n",
              "    </tr>\n",
              "    <tr>\n",
              "      <th>3</th>\n",
              "      <td>nm11775638</td>\n",
              "      <td>Ute Schonke</td>\n",
              "      <td>NULL</td>\n",
              "      <td>NULL</td>\n",
              "      <td>actress</td>\n",
              "      <td>tt0846838</td>\n",
              "      <td>NULL</td>\n",
              "      <td>NULL</td>\n",
              "      <td>NULL</td>\n",
              "    </tr>\n",
              "    <tr>\n",
              "      <th>4</th>\n",
              "      <td>nm10029946</td>\n",
              "      <td>Can Sertac Adalier</td>\n",
              "      <td>1990</td>\n",
              "      <td>NULL</td>\n",
              "      <td>actor</td>\n",
              "      <td>tt6137086</td>\n",
              "      <td>tt13708016</td>\n",
              "      <td>tt1886531</td>\n",
              "      <td>tt14639598</td>\n",
              "    </tr>\n",
              "    <tr>\n",
              "      <th>...</th>\n",
              "      <td>...</td>\n",
              "      <td>...</td>\n",
              "      <td>...</td>\n",
              "      <td>...</td>\n",
              "      <td>...</td>\n",
              "      <td>...</td>\n",
              "      <td>...</td>\n",
              "      <td>...</td>\n",
              "      <td>...</td>\n",
              "    </tr>\n",
              "    <tr>\n",
              "      <th>95</th>\n",
              "      <td>nm09159004</td>\n",
              "      <td>Abdul Mouhaiminou Compaore</td>\n",
              "      <td>NULL</td>\n",
              "      <td>NULL</td>\n",
              "      <td>writer</td>\n",
              "      <td>tt7179930</td>\n",
              "      <td>NULL</td>\n",
              "      <td>NULL</td>\n",
              "      <td>NULL</td>\n",
              "    </tr>\n",
              "    <tr>\n",
              "      <th>96</th>\n",
              "      <td>nm02970883</td>\n",
              "      <td>Aina Bergstrom</td>\n",
              "      <td>NULL</td>\n",
              "      <td>NULL</td>\n",
              "      <td>actress</td>\n",
              "      <td>tt0014324</td>\n",
              "      <td>NULL</td>\n",
              "      <td>NULL</td>\n",
              "      <td>NULL</td>\n",
              "    </tr>\n",
              "    <tr>\n",
              "      <th>97</th>\n",
              "      <td>nm11966417</td>\n",
              "      <td>Jorg Hartwig</td>\n",
              "      <td>NULL</td>\n",
              "      <td>NULL</td>\n",
              "      <td>miscellaneous</td>\n",
              "      <td>tt11421088</td>\n",
              "      <td>NULL</td>\n",
              "      <td>NULL</td>\n",
              "      <td>NULL</td>\n",
              "    </tr>\n",
              "    <tr>\n",
              "      <th>98</th>\n",
              "      <td>nm13657057</td>\n",
              "      <td>Ade</td>\n",
              "      <td>NULL</td>\n",
              "      <td>NULL</td>\n",
              "      <td>NULL</td>\n",
              "      <td>NULL</td>\n",
              "      <td>NULL</td>\n",
              "      <td>NULL</td>\n",
              "      <td>NULL</td>\n",
              "    </tr>\n",
              "    <tr>\n",
              "      <th>99</th>\n",
              "      <td>nm02462565</td>\n",
              "      <td>Johanna Naatsaari</td>\n",
              "      <td>NULL</td>\n",
              "      <td>NULL</td>\n",
              "      <td>actress</td>\n",
              "      <td>tt0099089</td>\n",
              "      <td>NULL</td>\n",
              "      <td>NULL</td>\n",
              "      <td>NULL</td>\n",
              "    </tr>\n",
              "  </tbody>\n",
              "</table>\n",
              "<p>100 rows × 9 columns</p>\n",
              "</div>\n",
              "      <button class=\"colab-df-convert\" onclick=\"convertToInteractive('df-583b41b9-9104-44ef-ba9c-31341c4b2958')\"\n",
              "              title=\"Convert this dataframe to an interactive table.\"\n",
              "              style=\"display:none;\">\n",
              "        \n",
              "  <svg xmlns=\"http://www.w3.org/2000/svg\" height=\"24px\"viewBox=\"0 0 24 24\"\n",
              "       width=\"24px\">\n",
              "    <path d=\"M0 0h24v24H0V0z\" fill=\"none\"/>\n",
              "    <path d=\"M18.56 5.44l.94 2.06.94-2.06 2.06-.94-2.06-.94-.94-2.06-.94 2.06-2.06.94zm-11 1L8.5 8.5l.94-2.06 2.06-.94-2.06-.94L8.5 2.5l-.94 2.06-2.06.94zm10 10l.94 2.06.94-2.06 2.06-.94-2.06-.94-.94-2.06-.94 2.06-2.06.94z\"/><path d=\"M17.41 7.96l-1.37-1.37c-.4-.4-.92-.59-1.43-.59-.52 0-1.04.2-1.43.59L10.3 9.45l-7.72 7.72c-.78.78-.78 2.05 0 2.83L4 21.41c.39.39.9.59 1.41.59.51 0 1.02-.2 1.41-.59l7.78-7.78 2.81-2.81c.8-.78.8-2.07 0-2.86zM5.41 20L4 18.59l7.72-7.72 1.47 1.35L5.41 20z\"/>\n",
              "  </svg>\n",
              "      </button>\n",
              "      \n",
              "  <style>\n",
              "    .colab-df-container {\n",
              "      display:flex;\n",
              "      flex-wrap:wrap;\n",
              "      gap: 12px;\n",
              "    }\n",
              "\n",
              "    .colab-df-convert {\n",
              "      background-color: #E8F0FE;\n",
              "      border: none;\n",
              "      border-radius: 50%;\n",
              "      cursor: pointer;\n",
              "      display: none;\n",
              "      fill: #1967D2;\n",
              "      height: 32px;\n",
              "      padding: 0 0 0 0;\n",
              "      width: 32px;\n",
              "    }\n",
              "\n",
              "    .colab-df-convert:hover {\n",
              "      background-color: #E2EBFA;\n",
              "      box-shadow: 0px 1px 2px rgba(60, 64, 67, 0.3), 0px 1px 3px 1px rgba(60, 64, 67, 0.15);\n",
              "      fill: #174EA6;\n",
              "    }\n",
              "\n",
              "    [theme=dark] .colab-df-convert {\n",
              "      background-color: #3B4455;\n",
              "      fill: #D2E3FC;\n",
              "    }\n",
              "\n",
              "    [theme=dark] .colab-df-convert:hover {\n",
              "      background-color: #434B5C;\n",
              "      box-shadow: 0px 1px 3px 1px rgba(0, 0, 0, 0.15);\n",
              "      filter: drop-shadow(0px 1px 2px rgba(0, 0, 0, 0.3));\n",
              "      fill: #FFFFFF;\n",
              "    }\n",
              "  </style>\n",
              "\n",
              "      <script>\n",
              "        const buttonEl =\n",
              "          document.querySelector('#df-583b41b9-9104-44ef-ba9c-31341c4b2958 button.colab-df-convert');\n",
              "        buttonEl.style.display =\n",
              "          google.colab.kernel.accessAllowed ? 'block' : 'none';\n",
              "\n",
              "        async function convertToInteractive(key) {\n",
              "          const element = document.querySelector('#df-583b41b9-9104-44ef-ba9c-31341c4b2958');\n",
              "          const dataTable =\n",
              "            await google.colab.kernel.invokeFunction('convertToInteractive',\n",
              "                                                     [key], {});\n",
              "          if (!dataTable) return;\n",
              "\n",
              "          const docLinkHtml = 'Like what you see? Visit the ' +\n",
              "            '<a target=\"_blank\" href=https://colab.research.google.com/notebooks/data_table.ipynb>data table notebook</a>'\n",
              "            + ' to learn more about interactive tables.';\n",
              "          element.innerHTML = '';\n",
              "          dataTable['output_type'] = 'display_data';\n",
              "          await google.colab.output.renderOutput(dataTable, element);\n",
              "          const docLink = document.createElement('div');\n",
              "          docLink.innerHTML = docLinkHtml;\n",
              "          element.appendChild(docLink);\n",
              "        }\n",
              "      </script>\n",
              "    </div>\n",
              "  </div>\n",
              "  "
            ]
          },
          "metadata": {},
          "execution_count": 312
        }
      ]
    },
    {
      "cell_type": "code",
      "source": [
        "#conocer que el formato del archivo sea string\n",
        "print('El archivo retornado es del formato: {}'.format(type(Ejercicio_4('/content/test4_0.tsv').to_string())))"
      ],
      "metadata": {
        "colab": {
          "base_uri": "https://localhost:8080/"
        },
        "id": "DD9uEiqFMVMt",
        "outputId": "1315780b-2cf1-4325-ab2f-afd5f3972b1a"
      },
      "execution_count": null,
      "outputs": [
        {
          "output_type": "stream",
          "name": "stdout",
          "text": [
            "El archivo retornado es del formato: <class 'str'>\n"
          ]
        }
      ]
    },
    {
      "cell_type": "markdown",
      "source": [
        "## Ejercicio 5\n",
        "\n",
        "**Cambio de codificacion de un archivo **\n",
        "\n",
        "Para esta prueba es necesario escribir un programa que pueda descargar un archivo de una URL, convertirlo a la codificación Windows 1252\n",
        "(\"windows-1252\"), y retornar la totalidad del archivo en forma de bytes a los que les ha sido aplicado el códec especificado.\n",
        "\n",
        "1. No debe modificar el nombre del archivo (test.py) ni de la función principal (ejercicio(str) -> bytes)\n",
        "\n",
        "2. No debe modificar la signatura (firma) de la función \"ejercicio\".\n",
        "\n",
        "3. Debe retomar un objeto bytes, no un string.\n",
        "\n",
        "4. El archivo debe terminar con un salto de línea ('\\n).\n",
        "\n",
        "5. Tiene las siguientes librerías a su disposición:\n",
        "\n"
      ],
      "metadata": {
        "id": "vn0TaccKSgPB"
      }
    },
    {
      "cell_type": "code",
      "source": [
        "import codecs"
      ],
      "metadata": {
        "id": "rJL-xUh5WY6a"
      },
      "execution_count": null,
      "outputs": []
    },
    {
      "cell_type": "code",
      "source": [
        "def ejercicio_5(url: str):\n",
        "\n",
        "  #response=requests.get(url)\n",
        "\n",
        "  #Abrir el archivo\n",
        "\n",
        "  with codecs.open(url, 'r', encoding='utf-8') as archivo:\n",
        "        contenido = archivo.read()\n",
        "\n",
        "    # Convertir el contenido a la codificación Windows-1252\n",
        "  contenido_windows1252 = contenido.encode('windows-1252')\n",
        "\n",
        "  return contenido_windows1252 #retornar el archivo en formato byte\n"
      ],
      "metadata": {
        "id": "4a4F7c61Sfvp"
      },
      "execution_count": null,
      "outputs": []
    },
    {
      "cell_type": "code",
      "source": [
        "ejercicio_5('/content/test5_0.tsv')"
      ],
      "metadata": {
        "id": "tPfz1DiiYM9K",
        "colab": {
          "base_uri": "https://localhost:8080/"
        },
        "outputId": "f01c3ca7-d1b7-474d-84de-e749777d8307"
      },
      "execution_count": null,
      "outputs": [
        {
          "output_type": "execute_result",
          "data": {
            "text/plain": [
              "b'nconst\\tprimaryName\\tbirthYear\\tdeathYear\\tprimaryProfession\\tknownForTitles\\tknownForTitles2\\tknownForTitles3\\tknownForTitles4\\nnm14316968\\tWolfgang Goth\\tNULL\\tNULL\\t\\ttt15276092\\tNULL\\tNULL\\tNULL\\nnm09194003\\tRodrigo Lopez Gonzalez\\tNULL\\tNULL\\tactor\\ttt7207232\\tNULL\\tNULL\\tNULL\\nnm11725718\\tAndres Mazaira Castro\\tNULL\\tNULL\\t\\tNULL\\tNULL\\tNULL\\tNULL\\nnm11775638\\tUte Schonke\\tNULL\\tNULL\\tactress\\ttt0846838\\tNULL\\tNULL\\tNULL\\nnm10029946\\tCan Sertac Adalier\\t1990\\tNULL\\tactor\\ttt6137086\\ttt13708016\\ttt1886531\\ttt14639598\\nnm12226787\\tVeronique Larmet\\tNULL\\tNULL\\t\\ttt13832726\\tNULL\\tNULL\\tNULL\\nnm01063716\\tAngel Galan\\tNULL\\tNULL\\tmake_up_department\\ttt0278512\\ttt0289319\\tNULL\\tNULL\\nnm04796378\\tKenji Oishi\\tNULL\\tNULL\\tanimation_department\\ttt3565744\\ttt1679681\\tNULL\\tNULL\\nnm03831904\\tSerio Fernandes\\tNULL\\tNULL\\tactor,producer,director\\ttt9377744\\ttt0082168\\ttt10526134\\ttt2055725\\nnm01876874\\tVictor Jasa\\tNULL\\tNULL\\tsound_department\\ttt1677568\\ttt0412701\\tNULL\\tNULL\\nnm09837396\\tDaniel Jorgensen\\tNULL\\tNULL\\t\\tNULL\\tNULL\\tNULL\\tNULL\\nnm01814313\\tJose Rosa\\tNULL\\tNULL\\tactor\\ttt0442989\\tNULL\\tNULL\\tNULL\\nnm02368090\\tFred Theze\\tNULL\\tNULL\\tcomposer\\ttt0383521\\tNULL\\tNULL\\tNULL\\nnm11559687\\tVeronica Mancha\\tNULL\\tNULL\\t\\tNULL\\tNULL\\tNULL\\tNULL\\nnm11187891\\tBalint Ladi\\tNULL\\tNULL\\tcamera_department\\ttt13921588\\ttt22325698\\ttt2403776\\ttt4978420\\nnm09981357\\tCem Ozcan\\tNULL\\tNULL\\tmiscellaneous\\ttt8716554\\tNULL\\tNULL\\tNULL\\nnm10651879\\tBusra Pelent\\tNULL\\tNULL\\tactress\\ttt13238304\\ttt8045936\\ttt14639598\\ttt15299654\\nnm01083360\\tYuki Nagata\\t1985\\tNULL\\tactor\\ttt7446086\\ttt0303658\\ttt0202152\\ttt0092371\\nnm12183935\\tBenjamin Hausler\\tNULL\\tNULL\\tset_decorator\\ttt13725506\\tNULL\\tNULL\\tNULL\\nnm00305625\\tAntonio Garcia de Mora\\tNULL\\tNULL\\tactor\\ttt0255679\\tNULL\\tNULL\\tNULL\\nnm09946935\\tJose Pena Donoso\\tNULL\\tNULL\\tproduction_manager,miscellaneous\\ttt9842678\\ttt9471660\\ttt8649490\\tNULL\\nnm13936306\\tHakan Karagoz\\tNULL\\tNULL\\tactor\\ttt19852660\\tNULL\\tNULL\\tNULL\\nnm02271370\\tMariangels Marti i Pol\\tNULL\\tNULL\\t\\ttt0799694\\ttt1517109\\tNULL\\tNULL\\nnm03883640\\tMaria Paz Bustamante\\tNULL\\tNULL\\twriter,producer\\ttt1636807\\ttt1885373\\tNULL\\tNULL\\nnm10795782\\tRoser Mari\\tNULL\\tNULL\\tmiscellaneous\\ttt6563862\\tNULL\\tNULL\\tNULL\\nnm02598492\\tJarkko Gronroos\\tNULL\\tNULL\\tactor\\ttt11558316\\ttt4309266\\ttt16271554\\ttt19755244\\nnm06896657\\tSvetlana Kapralova\\tNULL\\tNULL\\tmiscellaneous\\ttt0102519\\tNULL\\tNULL\\tNULL\\nnm02343183\\tAnalia Lopez\\tNULL\\tNULL\\tactress\\ttt0839972\\tNULL\\tNULL\\tNULL\\nnm12733856\\tJose Antonio Mata\\tNULL\\tNULL\\tart_department\\ttt14979434\\tNULL\\tNULL\\tNULL\\nnm02791306\\tSennendo Taguchi\\tNULL\\tNULL\\twriter\\ttt0988938\\tNULL\\tNULL\\tNULL\\nnm12133099\\tBjarte Sovik\\tNULL\\tNULL\\tmiscellaneous\\ttt4106514\\tNULL\\tNULL\\tNULL\\nnm00664459\\tJose Pascual\\tNULL\\tNULL\\tdirector,actor,writer\\ttt0116194\\ttt0073338\\ttt1176921\\ttt0443963\\nnm02061812\\tJenny L. Saldana\\tNULL\\tNULL\\tactress,producer,writer\\ttt1645170\\ttt1937118\\ttt2170222\\tNULL\\nnm00695012\\tBarbara Prado\\tNULL\\tNULL\\tactress\\ttt0077959\\tNULL\\tNULL\\tNULL\\nnm13547005\\tAnalu Pimenta\\tNULL\\tNULL\\tactress\\ttt19379004\\tNULL\\tNULL\\tNULL\\nnm13044861\\tGerard Merle\\tNULL\\tNULL\\tactor\\ttt8847712\\tNULL\\tNULL\\tNULL\\nnm02305691\\tChristophe Vericel\\tNULL\\tNULL\\tactor\\ttt14140886\\ttt6063866\\ttt1821468\\ttt10738536\\nnm09608717\\tMairead McCarron\\tNULL\\tNULL\\tactor\\ttt3203112\\tNULL\\tNULL\\tNULL\\nnm06087385\\tJuan Miguel Fernandez Bastida\\tNULL\\tNULL\\tactor\\ttt2560988\\tNULL\\tNULL\\tNULL\\nnm02884734\\tZentaro Shibata\\tNULL\\tNULL\\tactor\\ttt12494574\\ttt4489638\\ttt4415948\\ttt4489418\\nnm00844941\\tGladys Sanchez\\tNULL\\tNULL\\tcasting_director,casting_department,production_manager\\ttt0223585\\ttt0284382\\ttt0260772\\ttt0207565\\nnm08180901\\tGundula Schafer\\tNULL\\tNULL\\tactress\\ttt5764716\\tNULL\\tNULL\\tNULL\\nnm14022787\\tCarlos Lugstenmann\\tNULL\\tNULL\\tdirector,writer,producer\\ttt22005080\\tNULL\\tNULL\\tNULL\\nnm00617885\\tLouis Moller\\tNULL\\tNULL\\twriter\\ttt18952676\\ttt2426236\\ttt2432668\\ttt0007754\\nnm14769632\\tHelena Kasalova\\tNULL\\tNULL\\tactress\\ttt17067456\\tNULL\\tNULL\\tNULL\\nnm13421335\\tTomas Burian\\tNULL\\tNULL\\tdirector,actor,producer\\ttt18293868\\tNULL\\tNULL\\tNULL\\nnm08130658\\tBrenda Sanchez\\tNULL\\tNULL\\tcasting_department\\ttt5703068\\tNULL\\tNULL\\tNULL\\nnm02193318\\tJuan Jose Ruiz\\tNULL\\tNULL\\tcomposer\\ttt0082882\\tNULL\\tNULL\\tNULL\\nnm12964455\\tIrene Schonbein\\tNULL\\tNULL\\t\\tNULL\\tNULL\\tNULL\\tNULL\\nnm05412188\\tMaurice Durufle\\t1902\\t1986\\tsoundtrack,composer\\ttt0077907\\ttt1966583\\ttt2446980\\ttt7647022\\nnm01410851\\tMarivi Fernandez Palacios\\tNULL\\tNULL\\t\\ttt0372684\\ttt0424617\\ttt0373591\\ttt0372056\\nnm11885371\\tCarolina Perez\\tNULL\\tNULL\\t\\ttt6991820\\ttt5099272\\tNULL\\tNULL\\nnm14888045\\tEzechias Kossoko\\tNULL\\tNULL\\tcomposer\\ttt27894922\\ttt27851218\\tNULL\\tNULL\\nnm12398711\\tElif Perincek\\tNULL\\tNULL\\t\\ttt14211024\\tNULL\\tNULL\\tNULL\\nnm04498618\\tJhesus Tribuzi\\tNULL\\tNULL\\tcinematographer,writer,director\\ttt1954698\\ttt9064564\\ttt10297530\\ttt14256528\\nnm00701978\\tMarisol Perez Nazabal\\tNULL\\tNULL\\tmiscellaneous,script_department\\ttt0106251\\ttt0103206\\ttt0108385\\ttt0164201\\nnm08012850\\tAnna Bacikova\\tNULL\\tNULL\\tactress\\ttt4764478\\tNULL\\tNULL\\tNULL\\nnm03582375\\tAniko Nagy\\tNULL\\tNULL\\tcostume_department\\ttt0914798\\tNULL\\tNULL\\tNULL\\nnm11613674\\tJose Luis Dias\\tNULL\\tNULL\\t\\ttt0391706\\tNULL\\tNULL\\tNULL\\nnm03084365\\tDaniel Navarro Munoz\\tNULL\\tNULL\\tactor\\ttt0780587\\tNULL\\tNULL\\tNULL\\nnm10713134\\tMichaela Moravcova\\tNULL\\tNULL\\tactress\\tNULL\\tNULL\\tNULL\\tNULL\\nnm10370120\\tJurg Acklin\\t1945\\tNULL\\t\\ttt9537530\\ttt1131658\\ttt1022932\\ttt0880849\\nnm02525406\\tAndreas No\\xdfmann\\tNULL\\tNULL\\tart_department\\ttt0948717\\tNULL\\tNULL\\tNULL\\nnm07725725\\tTunde Al Hajjar\\tNULL\\tNULL\\t\\ttt5196184\\tNULL\\tNULL\\tNULL\\nnm09477017\\tJordi Teixidor de Ventos\\tNULL\\tNULL\\t\\tNULL\\tNULL\\tNULL\\tNULL\\nnm08485557\\tHunor Turoczi\\tNULL\\tNULL\\tactor\\ttt6113682\\tNULL\\tNULL\\tNULL\\nnm07709562\\tZoe Just\\tNULL\\tNULL\\tsound_department\\ttt5088652\\tNULL\\tNULL\\tNULL\\nnm11165443\\tBatalhao Sapadores Bombeiros do Porto\\tNULL\\tNULL\\t\\tNULL\\tNULL\\tNULL\\tNULL\\nnm01487518\\tHelmuth Meier-Lautenschlager\\tNULL\\tNULL\\tactor\\ttt0368071\\ttt1270256\\tNULL\\tNULL\\nnm03475371\\tHeikki Etelapaa\\tNULL\\tNULL\\twriter,actor\\ttt0464348\\ttt1448549\\ttt1468064\\ttt2553998\\nnm13376358\\tNicasio Antelo Martinez\\tNULL\\tNULL\\tproducer\\ttt16155872\\tNULL\\tNULL\\tNULL\\nnm11073148\\tMari Carmen Saladie\\tNULL\\tNULL\\tactress\\ttt9889002\\tNULL\\tNULL\\tNULL\\nnm06585273\\tBjorn Gunnar Vage\\tNULL\\tNULL\\tactor\\ttt3820296\\tNULL\\tNULL\\tNULL\\nnm00351557\\tJan Guner\\tNULL\\tNULL\\tmusic_department,actor,soundtrack\\ttt0090478\\ttt0093402\\ttt2923784\\ttt0085039\\nnm07112909\\tJuan Sebastian Acosta Pinilla\\tNULL\\tNULL\\tsound_department\\ttt4434240\\tNULL\\tNULL\\tNULL\\nnm08127242\\tKristian orsn\\xe6s\\tNULL\\tNULL\\teditor,director,writer\\ttt5685634\\tNULL\\tNULL\\tNULL\\nnm14226388\\tMargarethe Voringer\\tNULL\\tNULL\\t\\ttt1555979\\tNULL\\tNULL\\tNULL\\nnm01417253\\tSzabolcs Urban\\tNULL\\tNULL\\tproducer,actor\\ttt0374417\\ttt0404625\\ttt7947134\\tNULL\\nnm12474773\\tDavid Alexander Gutierrez\\tNULL\\tNULL\\tactor\\ttt6311902\\tNULL\\tNULL\\tNULL\\nnm12539291\\tPatricia Arenal Galan\\tNULL\\tNULL\\tactress\\ttt14573102\\tNULL\\tNULL\\tNULL\\nnm00133252\\tJoaquin Campos\\tNULL\\tNULL\\t\\ttt0157359\\tNULL\\tNULL\\tNULL\\nnm14456790\\tFrancisco Garcia\\tNULL\\tNULL\\teditorial_department\\ttt21882076\\tNULL\\tNULL\\tNULL\\nnm04194634\\tJulie Valkova\\tNULL\\tNULL\\tactress\\ttt0924177\\ttt7058158\\ttt1321261\\ttt0437032\\nnm01602869\\tCecile Debise\\tNULL\\tNULL\\tcamera_department\\ttt0400907\\tNULL\\tNULL\\tNULL\\nnm02569288\\tJon Magnusson\\tNULL\\tNULL\\tactor\\ttt0365841\\tNULL\\tNULL\\tNULL\\nnm14069168\\tJudith Konig\\t1964\\t2022\\tactress\\ttt15301048\\tNULL\\tNULL\\tNULL\\nnm01041683\\tV. Sanchez Fierro\\tNULL\\tNULL\\tactor\\ttt0269014\\tNULL\\tNULL\\tNULL\\nnm01264092\\tGerd Rosch\\tNULL\\tNULL\\tcamera_department\\ttt0846838\\tNULL\\tNULL\\tNULL\\nnm10728669\\tPhilip Moller\\tNULL\\tNULL\\t\\tNULL\\tNULL\\tNULL\\tNULL\\nnm04306201\\tJakub Bystricky\\tNULL\\tNULL\\t\\ttt1354674\\ttt16283550\\tNULL\\tNULL\\nnm01254613\\tSebastian Landro\\tNULL\\tNULL\\tactor\\ttt0333128\\tNULL\\tNULL\\tNULL\\nnm08065212\\tNatalia Rojas Lema\\tNULL\\tNULL\\tactor\\ttt5627374\\tNULL\\tNULL\\tNULL\\nnm02732045\\tAki Saito\\tNULL\\tNULL\\tactress\\ttt0153340\\ttt4902866\\ttt6231718\\ttt0144403\\nnm01897122\\tFrancisco Fernandez\\tNULL\\tNULL\\tcamera_department\\ttt0111071\\tNULL\\tNULL\\tNULL\\nnm14524210\\tSergio Habibe\\tNULL\\tNULL\\t\\ttt14917992\\tNULL\\tNULL\\tNULL\\nnm09159004\\tAbdul Mouhaiminou Compaore\\tNULL\\tNULL\\twriter\\ttt7179930\\tNULL\\tNULL\\tNULL\\nnm02970883\\tAina Bergstrom\\tNULL\\tNULL\\tactress\\ttt0014324\\tNULL\\tNULL\\tNULL\\nnm11966417\\tJorg Hartwig\\tNULL\\tNULL\\tmiscellaneous\\ttt11421088\\tNULL\\tNULL\\tNULL\\nnm13657057\\tAde\\tNULL\\tNULL\\t\\tNULL\\tNULL\\tNULL\\tNULL\\nnm02462565\\tJohanna Naatsaari\\tNULL\\tNULL\\tactress\\ttt0099089\\tNULL\\tNULL\\tNULL\\n'"
            ]
          },
          "metadata": {},
          "execution_count": 304
        }
      ]
    },
    {
      "cell_type": "code",
      "source": [
        "print(\"El formato del archivo del ejercicio 5 es: {}\".format(type(ejercicio_5('/content/test5_0.tsv')))) #comprobar que este en formato byte"
      ],
      "metadata": {
        "colab": {
          "base_uri": "https://localhost:8080/"
        },
        "id": "CuUlLvzbY6PL",
        "outputId": "1530d4bb-0d3f-40a8-8f28-94cf9ea67bf7"
      },
      "execution_count": null,
      "outputs": [
        {
          "output_type": "stream",
          "name": "stdout",
          "text": [
            "El formato del archivo del ejercicio 5 es: <class 'bytes'>\n"
          ]
        }
      ]
    },
    {
      "cell_type": "markdown",
      "source": [
        "### SEGUNDO INTENTO"
      ],
      "metadata": {
        "id": "zrSJGU1Kuxq2"
      }
    },
    {
      "cell_type": "markdown",
      "source": [
        "segundo punto"
      ],
      "metadata": {
        "id": "NZwdMPfpu1YP"
      }
    },
    {
      "cell_type": "code",
      "source": [
        "import requests\n",
        "\n",
        "def ejercicio(url: str):\n",
        "  resultado=\"\"\n",
        "\n",
        "  response = requests.get(url)\n",
        "  if response.status_code == 200: #verificar si el llamado del archivo html se realiza\n",
        "      lines = response.text.split('\\n') #realizar un split en lso saltos de linea y crear una lista de datos\n",
        "      transformed_lines = [] #variable temporal para almacenar los datos\n",
        "      for line in lines:\n",
        "          columns = line.split('\\t') #realizar un split para crear una lista para cada fila\n",
        "          if len(columns) > 0: #verificar si la variable columns tiene al menos un dato, para evitar filas vacias\n",
        "              first_column = columns[0] # obtener los datos de la primera columna o datos del indice cero de cada lista\n",
        "              if first_column!='nconst' and len(first_column) < 10 : #condicional para no modificar el nombre de la columna y datos que sean de longitud 10\n",
        "                first_column = re.sub(r'(\\w{2})(\\w+)', r'\\g<1>0\\g<2>', first_column) #para buscar los dos primeros caracteres, y luego reemplazarlos adicionando un cero en el tercer caracter, usando sub\n",
        "\n",
        "              transformed_columns = [first_column] + columns[1:] #concatenar los datos de cada columna junto a los datos de la primera columna\n",
        "              transformed_line = '\\t'.join(transformed_columns)#transformar en formato tsv\n",
        "              transformed_lines.append(transformed_line)\n",
        "      resultado = '\\n'.join(transformed_lines) #concatenar todas las filas en un solo texto y teniendo un salto de linea como separador\n",
        "      return resultado\n",
        "\n"
      ],
      "metadata": {
        "id": "wYU9024GgS4N"
      },
      "execution_count": null,
      "outputs": []
    },
    {
      "cell_type": "code",
      "source": [
        "ejercicio('https://pidgin.nyc3.digitaloceanspaces.com/coderbyte/python_tests/test2_0.tsv')"
      ],
      "metadata": {
        "colab": {
          "base_uri": "https://localhost:8080/",
          "height": 105
        },
        "id": "JgS84UxygXOk",
        "outputId": "1773b684-6432-4386-f460-77108c1343c6"
      },
      "execution_count": null,
      "outputs": [
        {
          "output_type": "execute_result",
          "data": {
            "text/plain": [
              "'nconst\\tprimaryName\\tbirthYear\\tdeathYear\\tprimaryProfession\\tknownForTitles\\nnm14316968\\tWolfgang Goth\\t\\\\N\\t\\\\N\\t\\ttt15276092\\nnm09194003\\tRodrigo Lopez Gonzalez\\t\\\\N\\t\\\\N\\tactor\\ttt7207232\\nnm11725718\\tAndres Mazaira Castro\\t\\\\N\\t\\\\N\\t\\t\\\\N\\nnm11775638\\tUte Schonke\\t\\\\N\\t\\\\N\\tactress\\ttt0846838\\nnm10029946\\tCan Sertac Adalier\\t1990\\t\\\\N\\tactor\\ttt6137086,tt13708016,tt1886531,tt14639598\\nnm12226787\\tVeronique Larmet\\t\\\\N\\t\\\\N\\t\\ttt13832726\\nnm01063716\\tAngel Galan\\t\\\\N\\t\\\\N\\tmake_up_department\\ttt0278512,tt0289319\\nnm04796378\\tKenji Oishi\\t\\\\N\\t\\\\N\\tanimation_department\\ttt3565744,tt1679681\\nnm03831904\\tSerio Fernandes\\t\\\\N\\t\\\\N\\tactor,producer,director\\ttt9377744,tt0082168,tt10526134,tt2055725\\nnm01876874\\tVictor Jasa\\t\\\\N\\t\\\\N\\tsound_department\\ttt1677568,tt0412701\\nnm09837396\\tDaniel Jorgensen\\t\\\\N\\t\\\\N\\t\\t\\\\N\\nnm01814313\\tJose Rosa\\t\\\\N\\t\\\\N\\tactor\\ttt0442989\\nnm02368090\\tFred Theze\\t\\\\N\\t\\\\N\\tcomposer\\ttt0383521\\nnm11559687\\tVeronica Mancha\\t\\\\N\\t\\\\N\\t\\t\\\\N\\nnm11187891\\tBalint Ladi\\t\\\\N\\t\\\\N\\tcamera_department\\ttt13921588,tt22325698,tt2403776,tt4978420\\nnm09981357\\tCem Ozcan\\t\\\\N\\t\\\\N\\tmiscellaneous\\ttt8716554\\nnm10651879\\tBusra Pelent\\t\\\\N\\t\\\\N\\tactress\\ttt13238304,tt8045936,tt14639598,tt15299654\\nnm01083360\\tYuki Nagata\\t1985\\t\\\\N\\tactor\\ttt7446086,tt0303658,tt0202152,tt0092371\\nnm12183935\\tBenjamin Hausler\\t\\\\N\\t\\\\N\\tset_decorator\\ttt13725506\\nnm00305625\\tAntonio Garcia de Mora\\t\\\\N\\t\\\\N\\tactor\\ttt0255679\\nnm09946935\\tJose Pena Donoso\\t\\\\N\\t\\\\N\\tproduction_manager,miscellaneous\\ttt9842678,tt9471660,tt8649490\\nnm13936306\\tHakan Karagoz\\t\\\\N\\t\\\\N\\tactor\\ttt19852660\\nnm02271370\\tMariangels Marti i Pol\\t\\\\N\\t\\\\N\\t\\ttt0799694,tt1517109\\nnm03883640\\tMaria Paz Bustamante\\t\\\\N\\t\\\\N\\twriter,producer\\ttt1636807,tt1885373\\nnm10795782\\tRoser Mari\\t\\\\N\\t\\\\N\\tmiscellaneous\\ttt6563862\\nnm02598492\\tJarkko Gronroos\\t\\\\N\\t\\\\N\\tactor\\ttt11558316,tt4309266,tt16271554,tt19755244\\nnm06896657\\tSvetlana Kapralova\\t\\\\N\\t\\\\N\\tmiscellaneous\\ttt0102519\\nnm02343183\\tAnalia Lopez\\t\\\\N\\t\\\\N\\tactress\\ttt0839972\\nnm12733856\\tJose Antonio Mata\\t\\\\N\\t\\\\N\\tart_department\\ttt14979434\\nnm02791306\\tSennendo Taguchi\\t\\\\N\\t\\\\N\\twriter\\ttt0988938\\nnm12133099\\tBjarte Sovik\\t\\\\N\\t\\\\N\\tmiscellaneous\\ttt4106514\\nnm00664459\\tJose Pascual\\t\\\\N\\t\\\\N\\tdirector,actor,writer\\ttt0116194,tt0073338,tt1176921,tt0443963\\nnm02061812\\tJenny L. Saldana\\t\\\\N\\t\\\\N\\tactress,producer,writer\\ttt1645170,tt1937118,tt2170222\\nnm00695012\\tBarbara Prado\\t\\\\N\\t\\\\N\\tactress\\ttt0077959\\nnm13547005\\tAnalu Pimenta\\t\\\\N\\t\\\\N\\tactress\\ttt19379004\\nnm13044861\\tGerard Merle\\t\\\\N\\t\\\\N\\tactor\\ttt8847712\\nnm02305691\\tChristophe Vericel\\t\\\\N\\t\\\\N\\tactor\\ttt14140886,tt6063866,tt1821468,tt10738536\\nnm09608717\\tMairead McCarron\\t\\\\N\\t\\\\N\\tactor\\ttt3203112\\nnm06087385\\tJuan Miguel Fernandez Bastida\\t\\\\N\\t\\\\N\\tactor\\ttt2560988\\nnm02884734\\tZentaro Shibata\\t\\\\N\\t\\\\N\\tactor\\ttt12494574,tt4489638,tt4415948,tt4489418\\nnm00844941\\tGladys Sanchez\\t\\\\N\\t\\\\N\\tcasting_director,casting_department,production_manager\\ttt0223585,tt0284382,tt0260772,tt0207565\\nnm08180901\\tGundula Schafer\\t\\\\N\\t\\\\N\\tactress\\ttt5764716\\nnm14022787\\tCarlos Lugstenmann\\t\\\\N\\t\\\\N\\tdirector,writer,producer\\ttt22005080\\nnm00617885\\tLouis Moller\\t\\\\N\\t\\\\N\\twriter\\ttt18952676,tt2426236,tt2432668,tt0007754\\nnm14769632\\tHelena Kasalova\\t\\\\N\\t\\\\N\\tactress\\ttt17067456\\nnm13421335\\tTomas Burian\\t\\\\N\\t\\\\N\\tdirector,actor,producer\\ttt18293868\\nnm08130658\\tBrenda Sanchez\\t\\\\N\\t\\\\N\\tcasting_department\\ttt5703068\\nnm02193318\\tJuan Jose Ruiz\\t\\\\N\\t\\\\N\\tcomposer\\ttt0082882\\nnm12964455\\tIrene Schonbein\\t\\\\N\\t\\\\N\\t\\t\\\\N\\nnm05412188\\tMaurice Durufle\\t1902\\t1986\\tsoundtrack,composer\\ttt0077907,tt1966583,tt2446980,tt7647022\\nnm01410851\\tMarivi Fernandez Palacios\\t\\\\N\\t\\\\N\\t\\ttt0372684,tt0424617,tt0373591,tt0372056\\nnm11885371\\tCarolina Perez\\t\\\\N\\t\\\\N\\t\\ttt6991820,tt5099272\\nnm14888045\\tEzechias Kossoko\\t\\\\N\\t\\\\N\\tcomposer\\ttt27894922,tt27851218\\nnm12398711\\tElif Perincek\\t\\\\N\\t\\\\N\\t\\ttt14211024\\nnm04498618\\tJhesus Tribuzi\\t\\\\N\\t\\\\N\\tcinematographer,writer,director\\ttt1954698,tt9064564,tt10297530,tt14256528\\nnm00701978\\tMarisol Perez Nazabal\\t\\\\N\\t\\\\N\\tmiscellaneous,script_department\\ttt0106251,tt0103206,tt0108385,tt0164201\\nnm08012850\\tAnna Bacikova\\t\\\\N\\t\\\\N\\tactress\\ttt4764478\\nnm03582375\\tAniko Nagy\\t\\\\N\\t\\\\N\\tcostume_department\\ttt0914798\\nnm11613674\\tJose Luis Dias\\t\\\\N\\t\\\\N\\t\\ttt0391706\\nnm03084365\\tDaniel Navarro Munoz\\t\\\\N\\t\\\\N\\tactor\\ttt0780587\\nnm10713134\\tMichaela Moravcova\\t\\\\N\\t\\\\N\\tactress\\t\\\\N\\nnm10370120\\tJurg Acklin\\t1945\\t\\\\N\\t\\ttt9537530,tt1131658,tt1022932,tt0880849\\nnm02525406\\tAndreas Noßmann\\t\\\\N\\t\\\\N\\tart_department\\ttt0948717\\nnm07725725\\tTunde Al Hajjar\\t\\\\N\\t\\\\N\\t\\ttt5196184\\nnm09477017\\tJordi Teixidor de Ventos\\t\\\\N\\t\\\\N\\t\\t\\\\N\\nnm08485557\\tHunor Turoczi\\t\\\\N\\t\\\\N\\tactor\\ttt6113682\\nnm07709562\\tZoe Just\\t\\\\N\\t\\\\N\\tsound_department\\ttt5088652\\nnm11165443\\tBatalhao Sapadores Bombeiros do Porto\\t\\\\N\\t\\\\N\\t\\t\\\\N\\nnm01487518\\tHelmuth Meier-Lautenschlager\\t\\\\N\\t\\\\N\\tactor\\ttt0368071,tt1270256\\nnm03475371\\tHeikki Etelapaa\\t\\\\N\\t\\\\N\\twriter,actor\\ttt0464348,tt1448549,tt1468064,tt2553998\\nnm13376358\\tNicasio Antelo Martinez\\t\\\\N\\t\\\\N\\tproducer\\ttt16155872\\nnm11073148\\tMari Carmen Saladie\\t\\\\N\\t\\\\N\\tactress\\ttt9889002\\nnm06585273\\tBjorn Gunnar Vage\\t\\\\N\\t\\\\N\\tactor\\ttt3820296\\nnm00351557\\tJan Guner\\t\\\\N\\t\\\\N\\tmusic_department,actor,soundtrack\\ttt0090478,tt0093402,tt2923784,tt0085039\\nnm07112909\\tJuan Sebastian Acosta Pinilla\\t\\\\N\\t\\\\N\\tsound_department\\ttt4434240\\nnm08127242\\tKristian orsnæs\\t\\\\N\\t\\\\N\\teditor,director,writer\\ttt5685634\\nnm14226388\\tMargarethe Voringer\\t\\\\N\\t\\\\N\\t\\ttt1555979\\nnm01417253\\tSzabolcs Urban\\t\\\\N\\t\\\\N\\tproducer,actor\\ttt0374417,tt0404625,tt7947134\\nnm12474773\\tDavid Alexander Gutierrez\\t\\\\N\\t\\\\N\\tactor\\ttt6311902\\nnm12539291\\tPatricia Arenal Galan\\t\\\\N\\t\\\\N\\tactress\\ttt14573102\\nnm00133252\\tJoaquin Campos\\t\\\\N\\t\\\\N\\t\\ttt0157359\\nnm14456790\\tFrancisco Garcia\\t\\\\N\\t\\\\N\\teditorial_department\\ttt21882076\\nnm04194634\\tJulie Valkova\\t\\\\N\\t\\\\N\\tactress\\ttt0924177,tt7058158,tt1321261,tt0437032\\nnm01602869\\tCecile Debise\\t\\\\N\\t\\\\N\\tcamera_department\\ttt0400907\\nnm02569288\\tJon Magnusson\\t\\\\N\\t\\\\N\\tactor\\ttt0365841\\nnm14069168\\tJudith Konig\\t1964\\t2022\\tactress\\ttt15301048\\nnm01041683\\tV. Sanchez Fierro\\t\\\\N\\t\\\\N\\tactor\\ttt0269014\\nnm01264092\\tGerd Rosch\\t\\\\N\\t\\\\N\\tcamera_department\\ttt0846838\\nnm10728669\\tPhilip Moller\\t\\\\N\\t\\\\N\\t\\t\\\\N\\nnm04306201\\tJakub Bystricky\\t\\\\N\\t\\\\N\\t\\ttt1354674,tt16283550\\nnm01254613\\tSebastian Landro\\t\\\\N\\t\\\\N\\tactor\\ttt0333128\\nnm08065212\\tNatalia Rojas Lema\\t\\\\N\\t\\\\N\\tactor\\ttt5627374\\nnm02732045\\tAki Saito\\t\\\\N\\t\\\\N\\tactress\\ttt0153340,tt4902866,tt6231718,tt0144403\\nnm01897122\\tFrancisco Fernandez\\t\\\\N\\t\\\\N\\tcamera_department\\ttt0111071\\nnm14524210\\tSergio Habibe\\t\\\\N\\t\\\\N\\t\\ttt14917992\\nnm09159004\\tAbdul Mouhaiminou Compaore\\t\\\\N\\t\\\\N\\twriter\\ttt7179930\\nnm02970883\\tAina Bergstrom\\t\\\\N\\t\\\\N\\tactress\\ttt0014324\\nnm11966417\\tJorg Hartwig\\t\\\\N\\t\\\\N\\tmiscellaneous\\ttt11421088\\nnm13657057\\tAde\\t\\\\N\\t\\\\N\\t\\t\\\\N\\nnm02462565\\tJohanna Naatsaari\\t\\\\N\\t\\\\N\\tactress\\ttt0099089\\n'"
            ],
            "application/vnd.google.colaboratory.intrinsic+json": {
              "type": "string"
            }
          },
          "metadata": {},
          "execution_count": 59
        }
      ]
    },
    {
      "cell_type": "code",
      "source": [
        "ejercicio('https://pidgin.nyc3.digitaloceanspaces.com/coderbyte/python_tests/test2_2.tsv')"
      ],
      "metadata": {
        "id": "i1DsrB1tR0mr",
        "outputId": "546736f9-8936-4f72-dd19-239c7adbe54e",
        "colab": {
          "base_uri": "https://localhost:8080/",
          "height": 105
        }
      },
      "execution_count": null,
      "outputs": [
        {
          "output_type": "execute_result",
          "data": {
            "text/plain": [
              "'nconst\\tprimaryName\\tbirthYear\\tdeathYear\\tprimaryProfession\\tknownForTitles\\nnm05234928\\tCristina Garmon\\t\\\\N\\t\\\\N\\teditorial_department,visual_effects,sound_department\\ttt14596388,tt11127690,tt3127022,tt1016301\\nnm04198158\\tBjorn Kjos\\t\\\\N\\t\\\\N\\t\\ttt0271319,tt7056992,tt5768978,tt0268836\\nnm14798357\\tVeronika Knitlova\\t\\\\N\\t\\\\N\\tactress\\ttt21098802\\nnm04416812\\tMilan Tera\\t\\\\N\\t\\\\N\\tactor\\ttt0406531\\nnm13555973\\tNatalia Borges Polesso\\t\\\\N\\t\\\\N\\twriter\\ttt13153924\\nnm03997208\\tSofie Thorner\\t\\\\N\\t\\\\N\\tmiscellaneous\\ttt1181791,tt0824758\\nnm00888610\\tLeonne Vandamme\\t\\\\N\\t\\\\N\\tactress\\ttt0258667,tt0258384\\nnm07013903\\tMaria Diaz\\t\\\\N\\t\\\\N\\tmiscellaneous\\ttt2955316\\nnm07450230\\tElizabeth Diaz\\t\\\\N\\t\\\\N\\tactress\\ttt4851406\\nnm00555055\\tDavid Martinez\\t\\\\N\\t\\\\N\\tcamera_department,transportation_department\\ttt1632824,tt0198093,tt0116193,tt0210809\\nnm09041152\\tFatih Kucuk\\t\\\\N\\t\\\\N\\tactor\\ttt21990210,tt8093926,tt1087884,tt10363404\\nnm13931795\\tTereza Moulisova\\t\\\\N\\t\\\\N\\teditor\\ttt21653948\\nnm08148085\\tUgur Guneri\\t\\\\N\\t\\\\N\\t\\ttt5651302\\nnm13332059\\tMirjam Grave\\t\\\\N\\t\\\\N\\t\\ttt17351988\\nnm05541713\\tEduardo Martinez\\t\\\\N\\t\\\\N\\tmake_up_department\\ttt0050700\\nnm12353022\\tEva Martinez\\t\\\\N\\t\\\\N\\tactress\\ttt1176921\\nnm11989410\\tMaria Rodriguez\\t\\\\N\\t\\\\N\\tmusic_department\\ttt6908274\\nnm01900655\\tSigvaldi Þorkelsson\\t\\\\N\\t\\\\N\\tart_department\\ttt15468716\\nnm09690454\\tDilara Unalan\\t\\\\N\\t\\\\N\\tactress\\t\\\\N\\nnm06015560\\tDina Veronika Bjorn\\t\\\\N\\t\\\\N\\tactress\\ttt3089978\\nnm03067230\\tFerencne Kerekes\\t\\\\N\\t\\\\N\\tanimation_department\\ttt0259308,tt0133319\\nnm07462589\\tMarc de Beltran\\t\\\\N\\t\\\\N\\tsound_department\\ttt5163112,tt4863612\\nnm02183931\\tLazaro Gomez\\t\\\\N\\t\\\\N\\ttransportation_department\\ttt0266079,tt0251777\\nnm10531245\\tDennis Fassbander\\t\\\\N\\t\\\\N\\tvisual_effects\\ttt9899716\\nnm12126890\\tMaria Jose Acosta\\t\\\\N\\t\\\\N\\teditor\\ttt13600120\\nnm00460035\\tJorgen Klos\\t\\\\N\\t\\\\N\\tactor\\ttt0082583,tt0093334\\nnm01025138\\tPedro Rodriguez Garay\\t\\\\N\\t\\\\N\\t\\t\\\\N\\nnm07390738\\tEloise Morhange\\t\\\\N\\t\\\\N\\tproducer,miscellaneous\\ttt6293516,tt4019666,tt5838200,tt1068962\\nnm08863064\\tHalldora Asgeirsdottir\\t\\\\N\\t\\\\N\\t\\t\\\\N\\nnm13103950\\tBerta Alfonsin\\t\\\\N\\t\\\\N\\tcamera_department,sound_department\\ttt14529024\\nnm02946834\\tJerome Mai\\t\\\\N\\t\\\\N\\tactor\\ttt1087885,tt1379885\\nnm06553568\\tFrancisco Gudino\\t\\\\N\\t\\\\N\\tactor\\ttt0409253\\nnm06936335\\tRemi Chaudiere\\t\\\\N\\t\\\\N\\tactor\\ttt4226452,tt7847352\\nnm09768483\\tYurdaer Cakir\\t\\\\N\\t\\\\N\\tactor\\ttt0424596\\nnm11760445\\tBalazs Mucsi\\t\\\\N\\t\\\\N\\tart_director,make_up_department\\ttt12719846,tt16156418\\nnm11933553\\tJorn Einar Rasmussen\\t\\\\N\\t\\\\N\\t\\ttt13175470\\nnm00109393\\tFrederic Brillion\\t\\\\N\\t\\\\N\\tproducer,production_manager,actor\\ttt0117477,tt0191636,tt1149361,tt1981107\\nnm08170126\\tAudun Havag\\t\\\\N\\t\\\\N\\tmusic_department\\ttt4020336\\nnm03476247\\tMichael Rakotozonia\\t\\\\N\\t\\\\N\\t\\t\\\\N\\nnm00836102\\tGerhard Stube\\t1921\\t2006\\twriter\\ttt0337156,tt0065340,tt0806901,tt0121027\\nnm13257080\\tJaime Carreno\\t\\\\N\\t\\\\N\\t\\ttt14340890,tt15891000\\nnm02336631\\tPierre Choiniere\\t\\\\N\\t\\\\N\\tart_department\\ttt0218800\\nnm14012991\\tJose Francisco Calvo\\t\\\\N\\t\\\\N\\tscript_department\\ttt21980406\\nnm10887617\\tJose Rodriguez\\t\\\\N\\t\\\\N\\tactor\\ttt10751900\\nnm05294514\\tMariangel Bohnke\\t\\\\N\\t\\\\N\\tactress\\ttt2419972\\nnm07323756\\tVictor Lamas\\t\\\\N\\t\\\\N\\tproduction_manager\\ttt3169770\\nnm02836815\\tHans-Jorg Karrenbrock\\t\\\\N\\t\\\\N\\tactor\\ttt0407724,tt0889068,tt6724374,tt3253744\\nnm01985084\\tGaelle Touati\\t\\\\N\\t\\\\N\\tset_decorator,art_department\\ttt1557789,tt0470715,tt0497544,tt1424781\\nnm04371977\\tLuis Galvan\\t\\\\N\\t\\\\N\\tactor\\ttt0373557\\nnm08121671\\tArtu Tognola\\t\\\\N\\t\\\\N\\tactor\\ttt5692602\\nnm06150986\\tNoemie Lazetta\\t\\\\N\\t\\\\N\\tactress\\ttt2319018\\nnm10647930\\tHadumod Bußmann\\t\\\\N\\t\\\\N\\t\\ttt1144839\\nnm07189092\\tDaniel Lukacs\\t1996\\t\\\\N\\tactor\\ttt0446224,tt14723224,tt9432338,tt4522626\\nnm06997346\\tMargaux Behague\\t\\\\N\\t\\\\N\\tproducer,miscellaneous,camera_department\\ttt3966404,tt7414922,tt4292542,tt7414952\\nnm01587331\\tJozsef Szabo\\t\\\\N\\t\\\\N\\tactor\\ttt0111749\\nnm04505713\\tCedrick Kluyskens\\t\\\\N\\t\\\\N\\tactor\\ttt7237148,tt4780842,tt1683446\\nnm10480770\\tFredy Giovanny Hernandez\\t\\\\N\\t\\\\N\\tactor\\ttt9662730\\nnm04471655\\tRino Shobu\\t\\\\N\\t\\\\N\\tactress\\ttt1926278\\nnm10482128\\tUli Grotsch\\t\\\\N\\t\\\\N\\t\\ttt5102168,tt4910340,tt1155393,tt0465857\\nnm08466520\\tYohei Komatsu\\t\\\\N\\t\\\\N\\tactor\\ttt7008446,tt6659442,tt6354324,tt4502448\\nnm10862501\\tMumtaz Aydogan Mengi\\t\\\\N\\t\\\\N\\tactor\\ttt1795096\\nnm03803809\\tMatthias Buhler\\t\\\\N\\t\\\\N\\tvisual_effects\\ttt0117865\\nnm03628618\\tMathias Schafer\\t\\\\N\\t\\\\N\\t\\ttt0207274\\nnm09974747\\tKazuya Ozaki\\t\\\\N\\t\\\\N\\tactor\\ttt8706178\\nnm03606034\\tCristina Lopez\\t\\\\N\\t\\\\N\\tproducer,writer\\ttt3185588,tt1507012,tt1921502\\nnm08178399\\tMarta Hainfart\\t\\\\N\\t\\\\N\\tactress\\ttt0424908\\nnm11340181\\tJoan Sebastia Parera\\t\\\\N\\t\\\\N\\tactor\\ttt11761404\\nnm07911694\\tNoemi Macaya Marquez\\t\\\\N\\t2016\\t\\ttt0227958\\nnm08307757\\tRaphaelle Genoud\\t\\\\N\\t\\\\N\\tmiscellaneous\\ttt6165468,tt4986360\\nnm02227762\\tImmo Schroder\\t\\\\N\\t\\\\N\\tactor\\ttt0791113\\nnm07447328\\tAlejandro Vazquez\\t\\\\N\\t\\\\N\\tcamera_department\\ttt4847458\\nnm06322289\\tPhilipp Luscher\\t\\\\N\\t\\\\N\\tactor\\ttt3565154,tt5661882\\nnm01181499\\tYoichi Ito\\t\\\\N\\t\\\\N\\tactor\\ttt2404069,tt1565820,tt0128039,tt0481035\\nnm03992273\\tAnssi Nikkila\\t\\\\N\\t\\\\N\\teditor,director\\ttt6232114,tt9471318,tt1694074\\nnm02968425\\tJakob Neuhausser\\t\\\\N\\t\\\\N\\tproducer,production_manager,location_management\\ttt7475578,tt6763252,tt12058584,tt13720112\\nnm10913786\\tMelek Caglar\\t\\\\N\\t\\\\N\\tproducer\\ttt8555740\\nnm00483472\\tValery Lameignere\\t\\\\N\\t\\\\N\\ttransportation_department\\ttt0105550\\nnm05758673\\tPatricia Schuch\\t\\\\N\\t\\\\N\\tactress\\ttt0416979\\nnm12718970\\tJorge Cicero\\t\\\\N\\t\\\\N\\tactor\\ttt0350804\\nnm13393994\\tFrancois Troussier\\t\\\\N\\t\\\\N\\t\\ttt0956046\\nnm01582020\\tMathieu Bremond\\t1980\\t\\\\N\\tcamera_department\\ttt4479380,tt0265932,tt14271432,tt0254775\\nnm12902006\\tGabriela Pachon\\t\\\\N\\t\\\\N\\tart_department,make_up_department\\ttt24131078,tt15341856\\nnm11038220\\tVivien Csigo\\t\\\\N\\t\\\\N\\tanimation_department\\ttt11070284\\nnm09758404\\tFroydis Leth-Olsen\\t\\\\N\\t\\\\N\\tactress\\ttt7481648\\nnm08921250\\tAttila Biro\\t\\\\N\\t\\\\N\\tcamera_department,miscellaneous\\ttt6756496,tt8961870,tt5099020\\nnm02439779\\tOliver Paßler\\t\\\\N\\t\\\\N\\tdirector,producer\\ttt1630058,tt5927438,tt0891591,tt1152499\\nnm01724773\\tMaria Lar\\t\\\\N\\t\\\\N\\tsoundtrack\\ttt0374465,tt0166803,tt0168351,tt0409065\\nnm09372922\\tIstvan Biro\\t\\\\N\\t\\\\N\\t\\ttt7556870\\nnm11034842\\tWolfgang Gluber\\t\\\\N\\t\\\\N\\t\\ttt2331482\\nnm11257850\\tCaren Remoy\\t\\\\N\\t\\\\N\\tactress\\ttt3344244,tt2581664\\nnm11878115\\tTereza Romanova\\t\\\\N\\t\\\\N\\tactress\\ttt13049990\\nnm00323421\\tWolfgang Gluxam\\t1958\\t2020\\tactor,soundtrack\\ttt0112471\\nnm01432648\\tHelene Vanura\\t\\\\N\\t\\\\N\\tactress\\ttt0207356,tt0166053\\nnm07824799\\tNicolas Gaudioso\\t\\\\N\\t\\\\N\\t\\ttt1266124\\nnm13135002\\tRegula Thonen\\t\\\\N\\t\\\\N\\t\\ttt0765274\\nnm00961317\\tVictor Lombardo\\t\\\\N\\t\\\\N\\tactor\\ttt0204110\\nnm11305150\\tTheresa Luke\\t\\\\N\\t\\\\N\\t\\ttt0920449\\nnm13428493\\tVeronika Nozickova\\t\\\\N\\t\\\\N\\tactor\\ttt18309520\\nnm04489053\\tRene Szymanski\\t\\\\N\\t\\\\N\\tactor\\ttt10027446,tt1950120,tt5615166,tt5619576\\nnm03897136\\tMaria Jesus Sanchez Morate\\t\\\\N\\t\\\\N\\tmiscellaneous\\ttt0865559\\n'"
            ],
            "application/vnd.google.colaboratory.intrinsic+json": {
              "type": "string"
            }
          },
          "metadata": {},
          "execution_count": 63
        }
      ]
    },
    {
      "cell_type": "code",
      "source": [
        "ejercicio('https://pidgin.nyc3.digitaloceanspaces.com/coderbyte/python_tests/test2_4.tsv')"
      ],
      "metadata": {
        "colab": {
          "base_uri": "https://localhost:8080/",
          "height": 105
        },
        "id": "mHobN0ZD6wRf",
        "outputId": "09d84ddc-1897-46ae-f1c4-ede69734da38"
      },
      "execution_count": null,
      "outputs": [
        {
          "output_type": "execute_result",
          "data": {
            "text/plain": [
              "'nconst\\tprimaryName\\tbirthYear\\tdeathYear\\tprimaryProfession\\tknownForTitles\\nnm09894708\\tRogerio Chequer\\t\\\\N\\t\\\\N\\t\\ttt8528782\\nnm11971502\\tAnke Grotluschen\\t\\\\N\\t\\\\N\\t\\ttt0465838\\nnm02835997\\tJens-Uwe Kroger\\t\\\\N\\t\\\\N\\ttransportation_department\\ttt0363473\\nnm10658941\\tKota Matsumoto\\t\\\\N\\t\\\\N\\tactor\\ttt10265262\\nnm02371694\\tAinhoa Alegria\\t\\\\N\\t\\\\N\\tmiscellaneous\\ttt0255328\\nnm01852551\\tAdrian Leon\\t\\\\N\\t\\\\N\\tactor,art_department,production_manager\\ttt0073459,tt0065846,tt0065750\\nnm11839522\\tKaiony Venancio\\t\\\\N\\t\\\\N\\tcasting_department,casting_director\\ttt12958772\\nnm12308054\\tAlejandra Galvez\\t\\\\N\\t\\\\N\\tmiscellaneous\\ttt13945238\\nnm03671309\\tQuentin Ladriere\\t\\\\N\\t\\\\N\\tactor\\ttt1537991,tt1556669,tt1344670\\nnm10302859\\tOscar Diaz\\t\\\\N\\t\\\\N\\tproducer\\ttt9382138\\nnm10012032\\tCedric Knafo\\t\\\\N\\t\\\\N\\tproducer,writer,art_director\\ttt10282880,tt2878232\\nnm01659712\\tMilan Jelinek\\t\\\\N\\t\\\\N\\tart_department,miscellaneous\\ttt0384754,tt0384369\\nnm11642649\\tEino Venalainen\\t\\\\N\\t\\\\N\\t\\ttt0289303\\nnm10976815\\tElizabeth Bathory\\t1560\\t1614\\t\\ttt6244104\\nnm01652130\\tGregory Roy\\t\\\\N\\t\\\\N\\tvisual_effects\\ttt0354174\\nnm01065668\\tOsamu Kato\\t1936\\t\\\\N\\tactor\\ttt0202152,tt0110008,tt0421351,tt0192886\\nnm13750761\\tAhrceus\\t\\\\N\\t\\\\N\\tactor\\ttt19783880,tt22640640\\nnm04369573\\tGerman Bloch\\t\\\\N\\t\\\\N\\teditor\\ttt1863148\\nnm13176234\\tDestinee Monet\\t\\\\N\\t\\\\N\\tactress,writer,producer\\ttt23396156,tt15908486,tt22023712,tt17513126\\nnm07228506\\tNelson Varas-Diaz\\t\\\\N\\t\\\\N\\tproducer\\ttt6228552,tt4564896\\nnm08570053\\tJorge Suarez\\t\\\\N\\t\\\\N\\ttransportation_department\\ttt5668040\\nnm04924414\\tIvan Cozar\\t\\\\N\\t\\\\N\\tactor\\ttt9806468,tt7286156,tt6060156,tt4136774\\nnm10520759\\tZuleima Castrillon\\t\\\\N\\t\\\\N\\tactress\\ttt5271772\\nnm03750705\\tPablo Jose Junquera Medina\\t\\\\N\\t\\\\N\\tcomposer\\ttt1577037\\nnm01586876\\tLazz Rodriguez\\t\\\\N\\t\\\\N\\tmake_up_department\\ttt0404684,tt0448999\\nnm01232201\\tGenevieve Dujay\\t\\\\N\\t\\\\N\\tmiscellaneous\\ttt1185421,tt0346123,tt0286268\\nnm11300559\\tXabi Larranaga\\t\\\\N\\t\\\\N\\twriter,production_manager,director\\ttt11671976,tt11672028,tt11670016\\nnm09426024\\tMaria Legradi\\t\\\\N\\t\\\\N\\tsound_department\\ttt0439725\\nnm12224317\\tMauricio Piatti\\t\\\\N\\t\\\\N\\tactor\\ttt13827364\\nnm13151783\\tTheo Nerestan\\t\\\\N\\t\\\\N\\tart_department\\ttt5822848\\nnm12424180\\tZuzana Kalatova\\t\\\\N\\t\\\\N\\twriter\\ttt1894749,tt14296334\\nnm14245375\\tZoe Galan\\t\\\\N\\t\\\\N\\tsound_department\\ttt13290130,tt15321160,tt15789472,tt20674380\\nnm06270489\\tRaphael Moreuil\\t\\\\N\\t\\\\N\\tspecial_effects,visual_effects\\ttt6886178,tt3514898,tt8136998\\nnm01857496\\tSedat Yucel\\t\\\\N\\t\\\\N\\tcinematographer\\ttt1784141,tt14486678,tt21257152,tt7999996\\nnm00804414\\tSoren Skjær\\t1951\\t\\\\N\\tproduction_designer,special_effects,art_department\\ttt1065318,tt0425235,tt0457655,tt0289195\\nnm11409259\\tSofia Scovotti\\t\\\\N\\t\\\\N\\tsound_department\\ttt13658886,tt23036332,tt18393842,tt21608084\\nnm02160301\\tBeatrice Guelpa\\t\\\\N\\t\\\\N\\twriter,director\\ttt1667480,tt2877476,tt1589410,tt0497879\\nnm08347284\\tClement Morin\\t\\\\N\\t\\\\N\\tdirector,visual_effects,animation_department\\ttt13769736,tt5949458,tt6807820,tt10168100\\nnm06430431\\tMarc-Andre Masse\\t\\\\N\\t\\\\N\\tcamera_department,sound_department,miscellaneous\\ttt2543164,tt1656177,tt4056232,tt5479010\\nnm02836404\\tMa-an L. Asuncion-Dagnalan\\t\\\\N\\t\\\\N\\tproducer,writer,cinematographer\\ttt9010880,tt22025868,tt2431988,tt1733159\\nnm09053457\\tCedric Viala\\t\\\\N\\t\\\\N\\twriter\\ttt6995632\\nnm12966268\\tJudit Takacs\\t\\\\N\\t\\\\N\\tmake_up_department\\ttt11771006\\nnm04218052\\tFrancesc Torres Monso\\t\\\\N\\t\\\\N\\t\\ttt10166798,tt1715333\\nnm08560467\\tMuhlviertler Dreier\\t\\\\N\\t\\\\N\\t\\ttt1987893\\nnm01334014\\tSuzy Gerard\\t\\\\N\\t\\\\N\\tactress\\ttt0013808\\nnm02598301\\tPeter Akar\\t1985\\t\\\\N\\tdirector,assistant_director,writer\\ttt1141308,tt4511704,tt4599252,tt1136897\\nnm12627490\\tJulio C. Sosa Socias\\t\\\\N\\t\\\\N\\tproducer\\ttt16155872,tt14731294\\nnm12501369\\tTereza Chovancova\\t\\\\N\\t\\\\N\\tscript_department,editor\\ttt18930744,tt14484790,tt18248540\\nnm09748740\\tGaston Ezequiel Fernandez\\t\\\\N\\t\\\\N\\tdirector\\ttt8234938\\nnm04113551\\tElicio Diaz\\t\\\\N\\t\\\\N\\tmiscellaneous\\ttt1739197\\nnm13649289\\tRicardo Domine\\t\\\\N\\t\\\\N\\tproducer\\t\\\\N\\nnm01047981\\tGunther Keil\\t\\\\N\\t\\\\N\\tactor,writer\\ttt0311508,tt0049354,tt0048658,tt0041708\\nnm06873119\\tMiklos Jonyer\\t\\\\N\\t\\\\N\\tcamera_department\\ttt4145446\\nnm07816629\\tKaterina Krupickova\\t\\\\N\\t\\\\N\\tmiscellaneous\\ttt0094416\\nnm02139391\\tJesus Garin\\t\\\\N\\t\\\\N\\tactor\\ttt0496184\\nnm10265469\\tJavi Roman\\t\\\\N\\t\\\\N\\t\\ttt7854274\\nnm14875834\\tPablo Valero Alcazar\\t\\\\N\\t\\\\N\\teditor,producer\\t\\\\N\\nnm06599547\\tKarina Karao\\t\\\\N\\t\\\\N\\tactor\\ttt2692882\\nnm02831290\\tCristian Martinez\\t\\\\N\\t\\\\N\\tmake_up_department\\ttt1116028\\nnm08184897\\tAna Alvarez\\t\\\\N\\t\\\\N\\tmiscellaneous\\ttt5774878\\nnm10616876\\tGerard Legrand\\t\\\\N\\t\\\\N\\tactor\\ttt3693970,tt0197138,tt0379082\\nnm06122472\\tCoral Maria Martinez Cuacos\\t\\\\N\\t\\\\N\\tactress\\ttt2560988\\nnm02276026\\tLorene Ploussard\\t\\\\N\\t\\\\N\\tactress\\ttt0349162\\nnm00349552\\tLuis Gutierrez\\t\\\\N\\t\\\\N\\tsound_department\\ttt0092178,tt0066085,tt0092617,tt0064914\\nnm07811478\\tAnita Boygard\\t\\\\N\\t\\\\N\\t\\ttt3605866\\nnm08789010\\tTomas Guðmundsson\\t\\\\N\\t\\\\N\\tcomposer\\ttt6543916\\nnm09036742\\tJerome Rothenberg\\t\\\\N\\t\\\\N\\t\\ttt6964778\\nnm08829139\\tArnaud Arene\\t\\\\N\\t\\\\N\\tactor\\ttt9328240,tt2859718\\nnm08074447\\tAndras Deri\\t\\\\N\\t\\\\N\\tactor,music_department\\ttt6247662,tt0849411\\nnm14785372\\tDary Ramirez\\t\\\\N\\t\\\\N\\tcostume_department\\ttt27589507\\nnm01700244\\tMorten Kjærgaard\\t\\\\N\\t\\\\N\\tart_department\\ttt0421464\\nnm00457864\\tMinna Kivela\\t\\\\N\\t\\\\N\\tactress,writer,soundtrack\\ttt13323008,tt3799850,tt0956282,tt8553606\\nnm06353297\\tSergio Padin\\t\\\\N\\t\\\\N\\tactor\\ttt3361074\\nnm06900529\\tIrma Lopez\\t\\\\N\\t\\\\N\\tactor\\ttt4184984\\nnm13801688\\tSzilard Koves\\t\\\\N\\t\\\\N\\ttransportation_department\\ttt21159372\\nnm09633421\\tLaura Diez Bueso\\t\\\\N\\t\\\\N\\t\\ttt7688210\\nnm05182698\\tSofia Steneras\\t\\\\N\\t\\\\N\\tmiscellaneous\\ttt1847701\\nnm11459705\\tMilan Tichy\\t\\\\N\\t\\\\N\\tdirector\\t\\\\N\\nnm13106599\\tAlexandra Largiader\\t\\\\N\\t\\\\N\\t\\ttt1022932\\nnm13752941\\tManuela Gottker\\t\\\\N\\t\\\\N\\t\\ttt0317022\\nnm14550085\\tGustavo Sanchez\\t\\\\N\\t\\\\N\\tactor\\ttt21648106\\nnm09975257\\tArvo Magi\\t\\\\N\\t\\\\N\\tcinematographer\\ttt8706878\\nnm12006098\\tSongul Boyraz\\t\\\\N\\t\\\\N\\tdirector\\ttt1693977\\nnm06846253\\tHelen Banares\\t\\\\N\\t\\\\N\\tmiscellaneous\\ttt2852432\\nnm14255939\\tOlof Warend Rylander\\t\\\\N\\t\\\\N\\t\\ttt23722172\\nnm02396914\\tJose Neves\\t\\\\N\\t\\\\N\\twriter,director,editor\\ttt4623452,tt6975998,tt2973158,tt0239381\\nnm11660326\\tDaniel Mendoza Sanchez\\t\\\\N\\t\\\\N\\tassistant_director\\ttt4680240,tt2280066,tt7592728,tt6272944\\nnm14266666\\tDaniel Danner\\t\\\\N\\t\\\\N\\t\\t\\\\N\\nnm02096990\\tFernando Lopez Escriva\\t1978\\t\\\\N\\teditor,director,writer\\ttt15029414,tt8207436,tt6734170,tt0489727\\nnm02651258\\tTamas Konyves\\t\\\\N\\t\\\\N\\tactor\\ttt12258134,tt0845874\\nnm04161052\\tMiguel Angel Rivera\\t\\\\N\\t\\\\N\\tactor\\ttt1764288\\nnm08457062\\tAnnuar Lopez Bernal\\t\\\\N\\t\\\\N\\tassistant_director\\ttt6002208\\nnm13774403\\tIngebrigt Llonæs\\t\\\\N\\t\\\\N\\t\\ttt21086658\\nnm05523521\\tAurelien Damy\\t\\\\N\\t\\\\N\\tactor\\ttt0172057\\nnm10170802\\tIstvan Bukovics\\t\\\\N\\t\\\\N\\tmiscellaneous\\ttt5099020\\nnm00431764\\tArmando Juarez\\t\\\\N\\t\\\\N\\tstunts,actor\\ttt2379713,tt1657507,tt1567609,tt0328107\\nnm13838198\\tYu Mitsuru\\t\\\\N\\t\\\\N\\twriter\\ttt21249186\\nnm05891406\\tKarolina Safrankova\\t1998\\t\\\\N\\tactress\\ttt11483880,tt2385320,tt7058158,tt7067008\\nnm04835288\\tCarles Gonzalez i Nogueras\\t\\\\N\\t\\\\N\\t\\ttt1507012\\nnm11900880\\tAdel Barbara Takacs\\t\\\\N\\t\\\\N\\t\\t\\\\N\\n'"
            ],
            "application/vnd.google.colaboratory.intrinsic+json": {
              "type": "string"
            }
          },
          "metadata": {},
          "execution_count": 60
        }
      ]
    },
    {
      "cell_type": "code",
      "source": [
        "ejercicio('https://pidgin.nyc3.digitaloceanspaces.com/coderbyte/python_tests/test2_2.tsv')"
      ],
      "metadata": {
        "colab": {
          "base_uri": "https://localhost:8080/",
          "height": 105
        },
        "id": "YKKoSkqsOC1j",
        "outputId": "6ca9a772-7a6e-4134-a1c8-30d2975e8473"
      },
      "execution_count": null,
      "outputs": [
        {
          "output_type": "execute_result",
          "data": {
            "text/plain": [
              "'nconst\\tprimaryName\\tbirthYear\\tdeathYear\\tprimaryProfession\\tknownForTitles\\nnm05234928\\tCristina Garmon\\t\\\\N\\t\\\\N\\teditorial_department,visual_effects,sound_department\\ttt14596388,tt11127690,tt3127022,tt1016301\\nnm04198158\\tBjorn Kjos\\t\\\\N\\t\\\\N\\t\\ttt0271319,tt7056992,tt5768978,tt0268836\\nnm14798357\\tVeronika Knitlova\\t\\\\N\\t\\\\N\\tactress\\ttt21098802\\nnm04416812\\tMilan Tera\\t\\\\N\\t\\\\N\\tactor\\ttt0406531\\nnm13555973\\tNatalia Borges Polesso\\t\\\\N\\t\\\\N\\twriter\\ttt13153924\\nnm03997208\\tSofie Thorner\\t\\\\N\\t\\\\N\\tmiscellaneous\\ttt1181791,tt0824758\\nnm00888610\\tLeonne Vandamme\\t\\\\N\\t\\\\N\\tactress\\ttt0258667,tt0258384\\nnm07013903\\tMaria Diaz\\t\\\\N\\t\\\\N\\tmiscellaneous\\ttt2955316\\nnm07450230\\tElizabeth Diaz\\t\\\\N\\t\\\\N\\tactress\\ttt4851406\\nnm00555055\\tDavid Martinez\\t\\\\N\\t\\\\N\\tcamera_department,transportation_department\\ttt1632824,tt0198093,tt0116193,tt0210809\\nnm09041152\\tFatih Kucuk\\t\\\\N\\t\\\\N\\tactor\\ttt21990210,tt8093926,tt1087884,tt10363404\\nnm13931795\\tTereza Moulisova\\t\\\\N\\t\\\\N\\teditor\\ttt21653948\\nnm08148085\\tUgur Guneri\\t\\\\N\\t\\\\N\\t\\ttt5651302\\nnm13332059\\tMirjam Grave\\t\\\\N\\t\\\\N\\t\\ttt17351988\\nnm05541713\\tEduardo Martinez\\t\\\\N\\t\\\\N\\tmake_up_department\\ttt0050700\\nnm12353022\\tEva Martinez\\t\\\\N\\t\\\\N\\tactress\\ttt1176921\\nnm11989410\\tMaria Rodriguez\\t\\\\N\\t\\\\N\\tmusic_department\\ttt6908274\\nnm01900655\\tSigvaldi Þorkelsson\\t\\\\N\\t\\\\N\\tart_department\\ttt15468716\\nnm09690454\\tDilara Unalan\\t\\\\N\\t\\\\N\\tactress\\t\\\\N\\nnm06015560\\tDina Veronika Bjorn\\t\\\\N\\t\\\\N\\tactress\\ttt3089978\\nnm03067230\\tFerencne Kerekes\\t\\\\N\\t\\\\N\\tanimation_department\\ttt0259308,tt0133319\\nnm07462589\\tMarc de Beltran\\t\\\\N\\t\\\\N\\tsound_department\\ttt5163112,tt4863612\\nnm02183931\\tLazaro Gomez\\t\\\\N\\t\\\\N\\ttransportation_department\\ttt0266079,tt0251777\\nnm10531245\\tDennis Fassbander\\t\\\\N\\t\\\\N\\tvisual_effects\\ttt9899716\\nnm12126890\\tMaria Jose Acosta\\t\\\\N\\t\\\\N\\teditor\\ttt13600120\\nnm00460035\\tJorgen Klos\\t\\\\N\\t\\\\N\\tactor\\ttt0082583,tt0093334\\nnm01025138\\tPedro Rodriguez Garay\\t\\\\N\\t\\\\N\\t\\t\\\\N\\nnm07390738\\tEloise Morhange\\t\\\\N\\t\\\\N\\tproducer,miscellaneous\\ttt6293516,tt4019666,tt5838200,tt1068962\\nnm08863064\\tHalldora Asgeirsdottir\\t\\\\N\\t\\\\N\\t\\t\\\\N\\nnm13103950\\tBerta Alfonsin\\t\\\\N\\t\\\\N\\tcamera_department,sound_department\\ttt14529024\\nnm02946834\\tJerome Mai\\t\\\\N\\t\\\\N\\tactor\\ttt1087885,tt1379885\\nnm06553568\\tFrancisco Gudino\\t\\\\N\\t\\\\N\\tactor\\ttt0409253\\nnm06936335\\tRemi Chaudiere\\t\\\\N\\t\\\\N\\tactor\\ttt4226452,tt7847352\\nnm09768483\\tYurdaer Cakir\\t\\\\N\\t\\\\N\\tactor\\ttt0424596\\nnm11760445\\tBalazs Mucsi\\t\\\\N\\t\\\\N\\tart_director,make_up_department\\ttt12719846,tt16156418\\nnm11933553\\tJorn Einar Rasmussen\\t\\\\N\\t\\\\N\\t\\ttt13175470\\nnm00109393\\tFrederic Brillion\\t\\\\N\\t\\\\N\\tproducer,production_manager,actor\\ttt0117477,tt0191636,tt1149361,tt1981107\\nnm08170126\\tAudun Havag\\t\\\\N\\t\\\\N\\tmusic_department\\ttt4020336\\nnm03476247\\tMichael Rakotozonia\\t\\\\N\\t\\\\N\\t\\t\\\\N\\nnm00836102\\tGerhard Stube\\t1921\\t2006\\twriter\\ttt0337156,tt0065340,tt0806901,tt0121027\\nnm13257080\\tJaime Carreno\\t\\\\N\\t\\\\N\\t\\ttt14340890,tt15891000\\nnm02336631\\tPierre Choiniere\\t\\\\N\\t\\\\N\\tart_department\\ttt0218800\\nnm14012991\\tJose Francisco Calvo\\t\\\\N\\t\\\\N\\tscript_department\\ttt21980406\\nnm10887617\\tJose Rodriguez\\t\\\\N\\t\\\\N\\tactor\\ttt10751900\\nnm05294514\\tMariangel Bohnke\\t\\\\N\\t\\\\N\\tactress\\ttt2419972\\nnm07323756\\tVictor Lamas\\t\\\\N\\t\\\\N\\tproduction_manager\\ttt3169770\\nnm02836815\\tHans-Jorg Karrenbrock\\t\\\\N\\t\\\\N\\tactor\\ttt0407724,tt0889068,tt6724374,tt3253744\\nnm01985084\\tGaelle Touati\\t\\\\N\\t\\\\N\\tset_decorator,art_department\\ttt1557789,tt0470715,tt0497544,tt1424781\\nnm04371977\\tLuis Galvan\\t\\\\N\\t\\\\N\\tactor\\ttt0373557\\nnm08121671\\tArtu Tognola\\t\\\\N\\t\\\\N\\tactor\\ttt5692602\\nnm06150986\\tNoemie Lazetta\\t\\\\N\\t\\\\N\\tactress\\ttt2319018\\nnm10647930\\tHadumod Bußmann\\t\\\\N\\t\\\\N\\t\\ttt1144839\\nnm07189092\\tDaniel Lukacs\\t1996\\t\\\\N\\tactor\\ttt0446224,tt14723224,tt9432338,tt4522626\\nnm06997346\\tMargaux Behague\\t\\\\N\\t\\\\N\\tproducer,miscellaneous,camera_department\\ttt3966404,tt7414922,tt4292542,tt7414952\\nnm01587331\\tJozsef Szabo\\t\\\\N\\t\\\\N\\tactor\\ttt0111749\\nnm04505713\\tCedrick Kluyskens\\t\\\\N\\t\\\\N\\tactor\\ttt7237148,tt4780842,tt1683446\\nnm10480770\\tFredy Giovanny Hernandez\\t\\\\N\\t\\\\N\\tactor\\ttt9662730\\nnm04471655\\tRino Shobu\\t\\\\N\\t\\\\N\\tactress\\ttt1926278\\nnm10482128\\tUli Grotsch\\t\\\\N\\t\\\\N\\t\\ttt5102168,tt4910340,tt1155393,tt0465857\\nnm08466520\\tYohei Komatsu\\t\\\\N\\t\\\\N\\tactor\\ttt7008446,tt6659442,tt6354324,tt4502448\\nnm10862501\\tMumtaz Aydogan Mengi\\t\\\\N\\t\\\\N\\tactor\\ttt1795096\\nnm03803809\\tMatthias Buhler\\t\\\\N\\t\\\\N\\tvisual_effects\\ttt0117865\\nnm03628618\\tMathias Schafer\\t\\\\N\\t\\\\N\\t\\ttt0207274\\nnm09974747\\tKazuya Ozaki\\t\\\\N\\t\\\\N\\tactor\\ttt8706178\\nnm03606034\\tCristina Lopez\\t\\\\N\\t\\\\N\\tproducer,writer\\ttt3185588,tt1507012,tt1921502\\nnm08178399\\tMarta Hainfart\\t\\\\N\\t\\\\N\\tactress\\ttt0424908\\nnm11340181\\tJoan Sebastia Parera\\t\\\\N\\t\\\\N\\tactor\\ttt11761404\\nnm07911694\\tNoemi Macaya Marquez\\t\\\\N\\t2016\\t\\ttt0227958\\nnm08307757\\tRaphaelle Genoud\\t\\\\N\\t\\\\N\\tmiscellaneous\\ttt6165468,tt4986360\\nnm02227762\\tImmo Schroder\\t\\\\N\\t\\\\N\\tactor\\ttt0791113\\nnm07447328\\tAlejandro Vazquez\\t\\\\N\\t\\\\N\\tcamera_department\\ttt4847458\\nnm06322289\\tPhilipp Luscher\\t\\\\N\\t\\\\N\\tactor\\ttt3565154,tt5661882\\nnm01181499\\tYoichi Ito\\t\\\\N\\t\\\\N\\tactor\\ttt2404069,tt1565820,tt0128039,tt0481035\\nnm03992273\\tAnssi Nikkila\\t\\\\N\\t\\\\N\\teditor,director\\ttt6232114,tt9471318,tt1694074\\nnm02968425\\tJakob Neuhausser\\t\\\\N\\t\\\\N\\tproducer,production_manager,location_management\\ttt7475578,tt6763252,tt12058584,tt13720112\\nnm10913786\\tMelek Caglar\\t\\\\N\\t\\\\N\\tproducer\\ttt8555740\\nnm00483472\\tValery Lameignere\\t\\\\N\\t\\\\N\\ttransportation_department\\ttt0105550\\nnm05758673\\tPatricia Schuch\\t\\\\N\\t\\\\N\\tactress\\ttt0416979\\nnm12718970\\tJorge Cicero\\t\\\\N\\t\\\\N\\tactor\\ttt0350804\\nnm13393994\\tFrancois Troussier\\t\\\\N\\t\\\\N\\t\\ttt0956046\\nnm01582020\\tMathieu Bremond\\t1980\\t\\\\N\\tcamera_department\\ttt4479380,tt0265932,tt14271432,tt0254775\\nnm12902006\\tGabriela Pachon\\t\\\\N\\t\\\\N\\tart_department,make_up_department\\ttt24131078,tt15341856\\nnm11038220\\tVivien Csigo\\t\\\\N\\t\\\\N\\tanimation_department\\ttt11070284\\nnm09758404\\tFroydis Leth-Olsen\\t\\\\N\\t\\\\N\\tactress\\ttt7481648\\nnm08921250\\tAttila Biro\\t\\\\N\\t\\\\N\\tcamera_department,miscellaneous\\ttt6756496,tt8961870,tt5099020\\nnm02439779\\tOliver Paßler\\t\\\\N\\t\\\\N\\tdirector,producer\\ttt1630058,tt5927438,tt0891591,tt1152499\\nnm01724773\\tMaria Lar\\t\\\\N\\t\\\\N\\tsoundtrack\\ttt0374465,tt0166803,tt0168351,tt0409065\\nnm09372922\\tIstvan Biro\\t\\\\N\\t\\\\N\\t\\ttt7556870\\nnm11034842\\tWolfgang Gluber\\t\\\\N\\t\\\\N\\t\\ttt2331482\\nnm11257850\\tCaren Remoy\\t\\\\N\\t\\\\N\\tactress\\ttt3344244,tt2581664\\nnm11878115\\tTereza Romanova\\t\\\\N\\t\\\\N\\tactress\\ttt13049990\\nnm00323421\\tWolfgang Gluxam\\t1958\\t2020\\tactor,soundtrack\\ttt0112471\\nnm01432648\\tHelene Vanura\\t\\\\N\\t\\\\N\\tactress\\ttt0207356,tt0166053\\nnm07824799\\tNicolas Gaudioso\\t\\\\N\\t\\\\N\\t\\ttt1266124\\nnm13135002\\tRegula Thonen\\t\\\\N\\t\\\\N\\t\\ttt0765274\\nnm00961317\\tVictor Lombardo\\t\\\\N\\t\\\\N\\tactor\\ttt0204110\\nnm11305150\\tTheresa Luke\\t\\\\N\\t\\\\N\\t\\ttt0920449\\nnm13428493\\tVeronika Nozickova\\t\\\\N\\t\\\\N\\tactor\\ttt18309520\\nnm04489053\\tRene Szymanski\\t\\\\N\\t\\\\N\\tactor\\ttt10027446,tt1950120,tt5615166,tt5619576\\nnm03897136\\tMaria Jesus Sanchez Morate\\t\\\\N\\t\\\\N\\tmiscellaneous\\ttt0865559\\n'"
            ],
            "application/vnd.google.colaboratory.intrinsic+json": {
              "type": "string"
            }
          },
          "metadata": {},
          "execution_count": 61
        }
      ]
    },
    {
      "cell_type": "code",
      "source": [
        "ejercicio('https://pidgin.nyc3.digitaloceanspaces.com/coderbyte/python_tests/test2_9.tsv')"
      ],
      "metadata": {
        "colab": {
          "base_uri": "https://localhost:8080/",
          "height": 105
        },
        "id": "LaEatcCFQg-b",
        "outputId": "911fe928-6844-48d2-b136-1204d012e1b7"
      },
      "execution_count": null,
      "outputs": [
        {
          "output_type": "execute_result",
          "data": {
            "text/plain": [
              "'nconst\\tprimaryName\\tbirthYear\\tdeathYear\\tprimaryProfession\\tknownForTitles\\nnm10354697\\tEva Kuhne-Hormann\\t\\\\N\\t\\\\N\\t\\ttt0768153,tt15275848\\nnm02791182\\tBorja Caamano\\t\\\\N\\t\\\\N\\tset_decorator,camera_department\\ttt2877326,tt1104313\\nnm02014264\\tRichard Koniger\\t1922\\t2014\\tcamera_department,cinematographer\\ttt0395133,tt6841900,tt1156064,tt1213061\\nnm00240192\\tFrancoise Dudognon\\t\\\\N\\t\\\\N\\twriter,costume_designer\\ttt0170350,tt0092739\\nnm12428229\\tStephane Roy\\t\\\\N\\t\\\\N\\tmiscellaneous\\ttt7722224\\nnm12481122\\tArzum Cimen\\t\\\\N\\t\\\\N\\tactress\\ttt12478514\\nnm01805472\\tMaria Cecilia M. de Barros\\t\\\\N\\t\\\\N\\tassistant_director\\ttt0082912\\nnm06313424\\tCarmela Garcia\\t\\\\N\\t\\\\N\\tactress\\ttt3556388\\nnm03494439\\tShuji Hayashi\\t\\\\N\\t\\\\N\\tproducer,actor\\ttt1051909,tt3225272,tt3777088,tt1478339\\nnm07610935\\tIsamu Sato\\t\\\\N\\t\\\\N\\tactor\\ttt5059518\\nnm01907351\\tSebastien Bernard\\t\\\\N\\t\\\\N\\teditorial_department\\ttt0431577,tt1824924\\nnm11499225\\tEerik Muts\\t\\\\N\\t\\\\N\\t\\ttt2767050\\nnm06806810\\tNoel Linan\\t\\\\N\\t\\\\N\\tcamera_department,cinematographer\\ttt20420702,tt1298644,tt1893273,tt3923662\\nnm00727898\\tMaria Eugenia Rios\\t1935\\t\\\\N\\tactress\\ttt0244400,tt0324726,tt0084335,tt0243643\\nnm12797615\\tManuel Ponce de Leon\\t\\\\N\\t\\\\N\\tdirector,writer,editor\\ttt15132696\\nnm10513898\\tCamille Benariac\\t\\\\N\\t\\\\N\\tcamera_department,cinematographer\\ttt15251480,tt10944760,tt12306376\\nnm09458420\\tFrederic Lebihan\\t\\\\N\\t\\\\N\\tmiscellaneous\\ttt7330380\\nnm09368729\\tJenny Mendez\\t\\\\N\\t\\\\N\\tactress\\ttt7549958,tt7551746\\nnm13692204\\tJean-Francois Lessard\\t\\\\N\\t\\\\N\\t\\ttt13555630\\nnm02022225\\tGerman Max Schieder\\t\\\\N\\t\\\\N\\tproducer,director,actor\\ttt0478462,tt4534300\\nnm01234731\\tLeon Vallee\\t\\\\N\\t\\\\N\\tactor\\ttt0028063\\nnm02029213\\tIgnacio Ferreiros\\t\\\\N\\t\\\\N\\tactor\\ttt0478035\\nnm06518932\\tAbilio Pereira\\t\\\\N\\t\\\\N\\ttransportation_department\\ttt3075596\\nnm04907635\\tLuis Zumarraga\\t\\\\N\\t\\\\N\\tactor,production_manager\\ttt1845846\\nnm04576305\\tMarco Linne Unzueta Casas\\t\\\\N\\t\\\\N\\tcinematographer,camera_department,producer\\ttt2024394,tt3752574,tt4381400\\nnm13384814\\tFlorencia Mariana Gonzalez\\t\\\\N\\t\\\\N\\tproducer\\ttt16155872\\nnm05094019\\tKoichi Minami\\t\\\\N\\t\\\\N\\tanimation_department\\ttt0159172\\nnm03961451\\tJose Luis Martinez\\t\\\\N\\t\\\\N\\tcamera_department\\ttt6704776,tt4621630,tt15444704,tt4580372\\nnm00756012\\tMonsenor Angel Sagarminaga\\t\\\\N\\t\\\\N\\tmiscellaneous\\ttt0045843,tt0042222,tt0044026,tt0045180\\nnm05345740\\tGaston Marin\\t\\\\N\\t\\\\N\\teditorial_department,producer,cinematographer\\ttt2505638,tt2487828,tt9191794,tt18238996\\nnm10879556\\tDenes Babai\\t\\\\N\\t\\\\N\\tactor\\ttt10415684\\nnm01822232\\tGarðar Hauksson\\t\\\\N\\t\\\\N\\tactor\\ttt0441888\\nnm11758373\\tAdan Avalos\\t\\\\N\\t\\\\N\\tdirector,writer,producer\\ttt15209338,tt12758608,tt14494858,tt13315770\\nnm10547373\\tMamadou Drame\\t\\\\N\\t\\\\N\\tmiscellaneous\\ttt9570854\\nnm13900600\\tJoao Carlos Marques\\t\\\\N\\t\\\\N\\twriter,animation_department,producer\\ttt21427460\\nnm09743433\\tOzbek Kaplan\\t1989\\t\\\\N\\tactor\\ttt0845088,tt6559642,tt11232670,tt7442274\\nnm02149603\\tLoic Hermstross\\t\\\\N\\t\\\\N\\tactor\\ttt0444284\\nnm01320509\\tValery Zeitoun\\t\\\\N\\t\\\\N\\tactor,director\\ttt25048848,tt2166143,tt24873134,tt0920470\\nnm05405148\\tStephanie Hen\\t\\\\N\\t\\\\N\\tmake_up_department\\ttt2520078\\nnm10983816\\tHulya Kart\\t\\\\N\\t\\\\N\\tactress\\ttt7224504\\nnm13662801\\tYesim Gulay\\t\\\\N\\t\\\\N\\twriter\\ttt19394340\\nnm12865433\\tId Jonas Emil\\t\\\\N\\t\\\\N\\tactor\\ttt15265854\\nnm03949006\\tSeverine Hubard\\t\\\\N\\t\\\\N\\tdirector,actress,writer\\ttt15106600,tt1673699,tt27635872\\nnm09438094\\tJuho Erahirvi\\t\\\\N\\t\\\\N\\tcamera_department\\ttt7662292\\nnm01772480\\tChechy Avendano\\t\\\\N\\t\\\\N\\tactor\\ttt0312542\\nnm00959530\\tMaria Antonieta Alvarez\\t\\\\N\\t\\\\N\\tmiscellaneous\\ttt0262239\\nnm04795098\\tLuiz Canario\\t\\\\N\\t\\\\N\\twriter\\ttt2124403\\nnm03335992\\tKarin Ludeking\\t\\\\N\\t\\\\N\\tactress\\ttt0054114\\nnm08664438\\tJuan Antonio Sanchez\\t\\\\N\\t\\\\N\\tactor\\ttt4944658\\nnm11790882\\tAna Lopez\\t\\\\N\\t\\\\N\\tactress\\ttt11506284\\nnm01863916\\tHansjorg Zather\\t\\\\N\\t\\\\N\\tcamera_department\\ttt0403727\\nnm07777121\\tRobert Meniere\\t\\\\N\\t\\\\N\\tmusic_department\\ttt1787078\\nnm08520856\\tMargarita Leon\\t\\\\N\\t\\\\N\\tactress\\ttt3443794,tt3484412\\nnm04955695\\tAndrea Bertok\\t\\\\N\\t\\\\N\\tcamera_department,director,actress\\ttt8772262,tt2302157,tt13959910,tt13963792\\nnm10684102\\tMichele Peron\\t\\\\N\\t\\\\N\\tactress\\ttt11553854,tt10311510,tt17632262\\nnm10534160\\tJean-Rene Oudot\\t\\\\N\\t\\\\N\\tactor\\ttt9905924\\nnm11320756\\tJoao Pedro Sustelo\\t\\\\N\\t\\\\N\\tart_department\\ttt6348138,tt10101702,tt14906890,tt10231312\\nnm11664493\\tAitor Gomez\\t1997\\t\\\\N\\tmiscellaneous,camera_department,cinematographer\\ttt13290130,tt15456580,tt22889682\\nnm00210217\\tInes de Medeiros\\t1968\\t\\\\N\\tactress,director,assistant_director\\ttt0124840,tt0109384,tt2266693,tt0114083\\nnm07312076\\tMichele Gasser\\t\\\\N\\t\\\\N\\tactress\\ttt0359226\\nnm02813269\\tDagmar Gallenmuller\\t\\\\N\\t\\\\N\\tdirector,writer\\ttt14365118,tt16879052,tt27650512,tt1125889\\nnm01317638\\tRobert Sorling\\t\\\\N\\t\\\\N\\tsound_department\\ttt11806034,tt0495116,tt1883180,tt4716466\\nnm03968934\\tAndre Fortin\\t1962\\t2000\\tproducer,director,writer\\t\\\\N\\nnm00306439\\tRafael Garcia\\t\\\\N\\t\\\\N\\tmusic_department\\ttt0213273\\nnm00374998\\tSilvia Helena\\t\\\\N\\t\\\\N\\tactress\\ttt19877776,tt0451948,tt0209601,tt0448675\\nnm04482433\\tEllen Gunther\\t\\\\N\\t\\\\N\\tactress\\ttt0287850\\nnm01997594\\tJose Luis Lopez\\t\\\\N\\t\\\\N\\tsound_department\\ttt0070029,tt0086963,tt0077094\\nnm09136329\\tElena Garcia\\t\\\\N\\t\\\\N\\tart_department\\ttt5187886,tt13434790,tt8406738\\nnm01713375\\tFrederic Cote\\t\\\\N\\t\\\\N\\tanimation_department,visual_effects,art_department\\ttt0369226,tt1411250,tt3778644,tt0360717\\nnm08992551\\tMichele Diani\\t\\\\N\\t\\\\N\\tart_director\\ttt6888510\\nnm05548464\\tLinnea Bergman Sjostrand\\t\\\\N\\t\\\\N\\tart_department\\ttt2640924\\nnm11646765\\tSonia Jesus\\t\\\\N\\t\\\\N\\t\\ttt0280237,tt13392006,tt13607472,tt27874311\\nnm05666124\\tDonchie Emchi\\t\\\\N\\t\\\\N\\twriter\\ttt0098318\\nnm11012230\\tKasa Gergo\\t\\\\N\\t\\\\N\\tcamera_department\\ttt23752678,tt4718184,tt1967620\\nnm08158458\\tRocio Bazan\\t\\\\N\\t\\\\N\\tproducer\\ttt3486416,tt21199810\\nnm12203576\\tLucero Sanchez\\t\\\\N\\t\\\\N\\tactor\\ttt13778148\\nnm02080856\\tChloe Lafon\\t\\\\N\\t\\\\N\\t\\ttt0483464\\nnm04380443\\tOscar Rodriguez\\t\\\\N\\t\\\\N\\t\\ttt1867129\\nnm14703300\\tMiro Prochazka\\t\\\\N\\t\\\\N\\tactor\\ttt22498228\\nnm10433803\\tMorris Bottger\\t\\\\N\\t\\\\N\\tmiscellaneous\\ttt9675804\\nnm04936804\\tEstefania Lopez\\t\\\\N\\t\\\\N\\tmake_up_department\\ttt2207473\\nnm13799190\\tMelanie Gouret\\t\\\\N\\t\\\\N\\tcostume_department\\ttt21054726\\nnm12267128\\tJan Lesak\\t\\\\N\\t\\\\N\\tactor\\ttt13923148\\nnm12491235\\tGregory Bidault\\t\\\\N\\t\\\\N\\tart_department\\ttt2283208\\nnm10787911\\tCesar Brandon\\t\\\\N\\t\\\\N\\t\\ttt7304018,tt20197422\\nnm05874202\\tJean-Francois Pays\\t\\\\N\\t\\\\N\\tactor\\ttt0054182\\nnm07767581\\tAitor Garcia Rey\\t\\\\N\\t\\\\N\\tmiscellaneous\\ttt1629747\\nnm05461603\\tSatu Rohr\\t\\\\N\\t\\\\N\\tmiscellaneous\\ttt9100346\\nnm03178600\\tGustavo Martin\\t\\\\N\\t\\\\N\\teditor\\ttt1315390\\nnm12282876\\tSanna Ohlund\\t\\\\N\\t\\\\N\\tmake_up_department,art_department,actress\\ttt13967470,tt22476244,tt15671722,tt11207806\\nnm06261014\\tRiviere Noire\\t\\\\N\\t\\\\N\\t\\ttt3753910,tt0872041\\nnm07670547\\tHerve Dhinaut\\t\\\\N\\t\\\\N\\tdirector\\ttt14617944,tt0361246\\nnm06244165\\tAdrian Aguilar Marquez\\t\\\\N\\t\\\\N\\tassistant_director\\ttt1986760\\nnm01597717\\tA.V. Samsjo\\t\\\\N\\t\\\\N\\twriter\\ttt0006617\\nnm04802923\\tMelissa Santamaria\\t\\\\N\\t\\\\N\\tactress\\ttt0373557\\nnm07792367\\tEmmanuelle Perie-Bardout\\t\\\\N\\t\\\\N\\twriter,director,actress\\ttt12236904,tt26316373,tt19046556,tt24517944\\nnm00951295\\tNu Yen-Khe Tran\\t1968\\t\\\\N\\tactress,art_department,art_director\\ttt7692966,tt0224578,tt1024744,tt0107617\\nnm01330104\\tThierry Bettas-Begalin\\t\\\\N\\t\\\\N\\tproducer,production_manager\\ttt0429046,tt1094249,tt0294279,tt0170705\\nnm02997230\\tKlaus Albrecht Schroder\\t1955\\t\\\\N\\tsoundtrack\\ttt11401122,tt9116094,tt15802808,tt12035456\\nnm14081051\\tOndrej Holy\\t\\\\N\\t\\\\N\\tactor,composer\\ttt22300410,tt7955774\\n'"
            ],
            "application/vnd.google.colaboratory.intrinsic+json": {
              "type": "string"
            }
          },
          "metadata": {},
          "execution_count": 62
        }
      ]
    },
    {
      "cell_type": "markdown",
      "source": [
        "### Cuarto Ejercicio"
      ],
      "metadata": {
        "id": "4EPKNUPMyeB5"
      }
    },
    {
      "cell_type": "code",
      "source": [
        "def ejercicio_2(url: str): # NO MODIFIQUE ESTA LÍNEA\n",
        "  resultado = \"\"\n",
        "\n",
        "  response = requests.get(url)\n",
        "  if response.status_code == 200:\n",
        "      lines = response.text.strip().split('\\n')\n",
        "      headers = lines[0].split('\\t')\n",
        "\n",
        "      data = [line.split('\\t') for line in lines[1:]]\n",
        "\n",
        "\n",
        "        # Obtener índice de la última columna\n",
        "      last_column_index = len(headers) - 1\n",
        "\n",
        "        # Verificar si la última columna contiene comas\n",
        "      for row in data:\n",
        "          values = row[last_column_index].split(',')\n",
        "          if len(values) > 1:\n",
        "                # Separar los valores en hasta 3 nuevas columnas\n",
        "            row[last_column_index] = values[0]\n",
        "            row.append(values[1] if len(values) > 1 else r'\\N')\n",
        "            row.append(values[2] if len(values) > 2 else r'\\N')\n",
        "            row.append(r'\\N')\n",
        "\n",
        "        # Añadir los encabezados de las nuevas columnas\n",
        "      headers.extend(['knownForTitles2', 'knownForTitles3', 'knownForTitles4'])\n",
        "\n",
        "\n",
        "        # Construir el archivo transformado como un string\n",
        "      transformed_data = [headers] + data\n",
        "      #print(transformed_data)\n",
        "      resultado = '\\n'.join('\\t'.join(row) for row in transformed_data)\n",
        "\n",
        "\n",
        "\n",
        "  return resultado"
      ],
      "metadata": {
        "id": "fR7ceDz2yfR4"
      },
      "execution_count": null,
      "outputs": []
    },
    {
      "cell_type": "code",
      "source": [
        "ejercicio_2('https://pidgin.nyc3.digitaloceanspaces.com/coderbyte/python_tests/test3_0.tsv')"
      ],
      "metadata": {
        "colab": {
          "base_uri": "https://localhost:8080/",
          "height": 105
        },
        "id": "shUTiZbAy5of",
        "outputId": "e8d757fb-0761-44a6-a09f-c7578d579cf1"
      },
      "execution_count": null,
      "outputs": [
        {
          "output_type": "execute_result",
          "data": {
            "text/plain": [
              "'nconst\\tprimaryName\\tbirthYear\\tdeathYear\\tprimaryProfession\\tknownForTitles\\tknownForTitles2\\tknownForTitles3\\tknownForTitles4\\nnm14316968\\tWolfgang Goth\\t\\\\N\\t\\\\N\\t\\ttt15276092\\nnm09194003\\tRodrigo Lopez Gonzalez\\t\\\\N\\t\\\\N\\tactor\\ttt7207232\\nnm11725718\\tAndres Mazaira Castro\\t\\\\N\\t\\\\N\\t\\t\\\\N\\nnm11775638\\tUte Schonke\\t\\\\N\\t\\\\N\\tactress\\ttt0846838\\nnm10029946\\tCan Sertac Adalier\\t1990\\t\\\\N\\tactor\\ttt6137086\\ttt13708016\\ttt1886531\\t\\\\N\\nnm12226787\\tVeronique Larmet\\t\\\\N\\t\\\\N\\t\\ttt13832726\\nnm01063716\\tAngel Galan\\t\\\\N\\t\\\\N\\tmake_up_department\\ttt0278512\\ttt0289319\\t\\\\N\\t\\\\N\\nnm04796378\\tKenji Oishi\\t\\\\N\\t\\\\N\\tanimation_department\\ttt3565744\\ttt1679681\\t\\\\N\\t\\\\N\\nnm03831904\\tSerio Fernandes\\t\\\\N\\t\\\\N\\tactor,producer,director\\ttt9377744\\ttt0082168\\ttt10526134\\t\\\\N\\nnm01876874\\tVictor Jasa\\t\\\\N\\t\\\\N\\tsound_department\\ttt1677568\\ttt0412701\\t\\\\N\\t\\\\N\\nnm09837396\\tDaniel Jorgensen\\t\\\\N\\t\\\\N\\t\\t\\\\N\\nnm01814313\\tJose Rosa\\t\\\\N\\t\\\\N\\tactor\\ttt0442989\\nnm02368090\\tFred Theze\\t\\\\N\\t\\\\N\\tcomposer\\ttt0383521\\nnm11559687\\tVeronica Mancha\\t\\\\N\\t\\\\N\\t\\t\\\\N\\nnm11187891\\tBalint Ladi\\t\\\\N\\t\\\\N\\tcamera_department\\ttt13921588\\ttt22325698\\ttt2403776\\t\\\\N\\nnm09981357\\tCem Ozcan\\t\\\\N\\t\\\\N\\tmiscellaneous\\ttt8716554\\nnm10651879\\tBusra Pelent\\t\\\\N\\t\\\\N\\tactress\\ttt13238304\\ttt8045936\\ttt14639598\\t\\\\N\\nnm01083360\\tYuki Nagata\\t1985\\t\\\\N\\tactor\\ttt7446086\\ttt0303658\\ttt0202152\\t\\\\N\\nnm12183935\\tBenjamin Hausler\\t\\\\N\\t\\\\N\\tset_decorator\\ttt13725506\\nnm00305625\\tAntonio Garcia de Mora\\t\\\\N\\t\\\\N\\tactor\\ttt0255679\\nnm09946935\\tJose Pena Donoso\\t\\\\N\\t\\\\N\\tproduction_manager,miscellaneous\\ttt9842678\\ttt9471660\\ttt8649490\\t\\\\N\\nnm13936306\\tHakan Karagoz\\t\\\\N\\t\\\\N\\tactor\\ttt19852660\\nnm02271370\\tMariangels Marti i Pol\\t\\\\N\\t\\\\N\\t\\ttt0799694\\ttt1517109\\t\\\\N\\t\\\\N\\nnm03883640\\tMaria Paz Bustamante\\t\\\\N\\t\\\\N\\twriter,producer\\ttt1636807\\ttt1885373\\t\\\\N\\t\\\\N\\nnm10795782\\tRoser Mari\\t\\\\N\\t\\\\N\\tmiscellaneous\\ttt6563862\\nnm02598492\\tJarkko Gronroos\\t\\\\N\\t\\\\N\\tactor\\ttt11558316\\ttt4309266\\ttt16271554\\t\\\\N\\nnm06896657\\tSvetlana Kapralova\\t\\\\N\\t\\\\N\\tmiscellaneous\\ttt0102519\\nnm02343183\\tAnalia Lopez\\t\\\\N\\t\\\\N\\tactress\\ttt0839972\\nnm12733856\\tJose Antonio Mata\\t\\\\N\\t\\\\N\\tart_department\\ttt14979434\\nnm02791306\\tSennendo Taguchi\\t\\\\N\\t\\\\N\\twriter\\ttt0988938\\nnm12133099\\tBjarte Sovik\\t\\\\N\\t\\\\N\\tmiscellaneous\\ttt4106514\\nnm00664459\\tJose Pascual\\t\\\\N\\t\\\\N\\tdirector,actor,writer\\ttt0116194\\ttt0073338\\ttt1176921\\t\\\\N\\nnm02061812\\tJenny L. Saldana\\t\\\\N\\t\\\\N\\tactress,producer,writer\\ttt1645170\\ttt1937118\\ttt2170222\\t\\\\N\\nnm00695012\\tBarbara Prado\\t\\\\N\\t\\\\N\\tactress\\ttt0077959\\nnm13547005\\tAnalu Pimenta\\t\\\\N\\t\\\\N\\tactress\\ttt19379004\\nnm13044861\\tGerard Merle\\t\\\\N\\t\\\\N\\tactor\\ttt8847712\\nnm02305691\\tChristophe Vericel\\t\\\\N\\t\\\\N\\tactor\\ttt14140886\\ttt6063866\\ttt1821468\\t\\\\N\\nnm09608717\\tMairead McCarron\\t\\\\N\\t\\\\N\\tactor\\ttt3203112\\nnm06087385\\tJuan Miguel Fernandez Bastida\\t\\\\N\\t\\\\N\\tactor\\ttt2560988\\nnm02884734\\tZentaro Shibata\\t\\\\N\\t\\\\N\\tactor\\ttt12494574\\ttt4489638\\ttt4415948\\t\\\\N\\nnm00844941\\tGladys Sanchez\\t\\\\N\\t\\\\N\\tcasting_director,casting_department,production_manager\\ttt0223585\\ttt0284382\\ttt0260772\\t\\\\N\\nnm08180901\\tGundula Schafer\\t\\\\N\\t\\\\N\\tactress\\ttt5764716\\nnm14022787\\tCarlos Lugstenmann\\t\\\\N\\t\\\\N\\tdirector,writer,producer\\ttt22005080\\nnm00617885\\tLouis Moller\\t\\\\N\\t\\\\N\\twriter\\ttt18952676\\ttt2426236\\ttt2432668\\t\\\\N\\nnm14769632\\tHelena Kasalova\\t\\\\N\\t\\\\N\\tactress\\ttt17067456\\nnm13421335\\tTomas Burian\\t\\\\N\\t\\\\N\\tdirector,actor,producer\\ttt18293868\\nnm08130658\\tBrenda Sanchez\\t\\\\N\\t\\\\N\\tcasting_department\\ttt5703068\\nnm02193318\\tJuan Jose Ruiz\\t\\\\N\\t\\\\N\\tcomposer\\ttt0082882\\nnm12964455\\tIrene Schonbein\\t\\\\N\\t\\\\N\\t\\t\\\\N\\nnm05412188\\tMaurice Durufle\\t1902\\t1986\\tsoundtrack,composer\\ttt0077907\\ttt1966583\\ttt2446980\\t\\\\N\\nnm01410851\\tMarivi Fernandez Palacios\\t\\\\N\\t\\\\N\\t\\ttt0372684\\ttt0424617\\ttt0373591\\t\\\\N\\nnm11885371\\tCarolina Perez\\t\\\\N\\t\\\\N\\t\\ttt6991820\\ttt5099272\\t\\\\N\\t\\\\N\\nnm14888045\\tEzechias Kossoko\\t\\\\N\\t\\\\N\\tcomposer\\ttt27894922\\ttt27851218\\t\\\\N\\t\\\\N\\nnm12398711\\tElif Perincek\\t\\\\N\\t\\\\N\\t\\ttt14211024\\nnm04498618\\tJhesus Tribuzi\\t\\\\N\\t\\\\N\\tcinematographer,writer,director\\ttt1954698\\ttt9064564\\ttt10297530\\t\\\\N\\nnm00701978\\tMarisol Perez Nazabal\\t\\\\N\\t\\\\N\\tmiscellaneous,script_department\\ttt0106251\\ttt0103206\\ttt0108385\\t\\\\N\\nnm08012850\\tAnna Bacikova\\t\\\\N\\t\\\\N\\tactress\\ttt4764478\\nnm03582375\\tAniko Nagy\\t\\\\N\\t\\\\N\\tcostume_department\\ttt0914798\\nnm11613674\\tJose Luis Dias\\t\\\\N\\t\\\\N\\t\\ttt0391706\\nnm03084365\\tDaniel Navarro Munoz\\t\\\\N\\t\\\\N\\tactor\\ttt0780587\\nnm10713134\\tMichaela Moravcova\\t\\\\N\\t\\\\N\\tactress\\t\\\\N\\nnm10370120\\tJurg Acklin\\t1945\\t\\\\N\\t\\ttt9537530\\ttt1131658\\ttt1022932\\t\\\\N\\nnm02525406\\tAndreas Noßmann\\t\\\\N\\t\\\\N\\tart_department\\ttt0948717\\nnm07725725\\tTunde Al Hajjar\\t\\\\N\\t\\\\N\\t\\ttt5196184\\nnm09477017\\tJordi Teixidor de Ventos\\t\\\\N\\t\\\\N\\t\\t\\\\N\\nnm08485557\\tHunor Turoczi\\t\\\\N\\t\\\\N\\tactor\\ttt6113682\\nnm07709562\\tZoe Just\\t\\\\N\\t\\\\N\\tsound_department\\ttt5088652\\nnm11165443\\tBatalhao Sapadores Bombeiros do Porto\\t\\\\N\\t\\\\N\\t\\t\\\\N\\nnm01487518\\tHelmuth Meier-Lautenschlager\\t\\\\N\\t\\\\N\\tactor\\ttt0368071\\ttt1270256\\t\\\\N\\t\\\\N\\nnm03475371\\tHeikki Etelapaa\\t\\\\N\\t\\\\N\\twriter,actor\\ttt0464348\\ttt1448549\\ttt1468064\\t\\\\N\\nnm13376358\\tNicasio Antelo Martinez\\t\\\\N\\t\\\\N\\tproducer\\ttt16155872\\nnm11073148\\tMari Carmen Saladie\\t\\\\N\\t\\\\N\\tactress\\ttt9889002\\nnm06585273\\tBjorn Gunnar Vage\\t\\\\N\\t\\\\N\\tactor\\ttt3820296\\nnm00351557\\tJan Guner\\t\\\\N\\t\\\\N\\tmusic_department,actor,soundtrack\\ttt0090478\\ttt0093402\\ttt2923784\\t\\\\N\\nnm07112909\\tJuan Sebastian Acosta Pinilla\\t\\\\N\\t\\\\N\\tsound_department\\ttt4434240\\nnm08127242\\tKristian orsnæs\\t\\\\N\\t\\\\N\\teditor,director,writer\\ttt5685634\\nnm14226388\\tMargarethe Voringer\\t\\\\N\\t\\\\N\\t\\ttt1555979\\nnm01417253\\tSzabolcs Urban\\t\\\\N\\t\\\\N\\tproducer,actor\\ttt0374417\\ttt0404625\\ttt7947134\\t\\\\N\\nnm12474773\\tDavid Alexander Gutierrez\\t\\\\N\\t\\\\N\\tactor\\ttt6311902\\nnm12539291\\tPatricia Arenal Galan\\t\\\\N\\t\\\\N\\tactress\\ttt14573102\\nnm00133252\\tJoaquin Campos\\t\\\\N\\t\\\\N\\t\\ttt0157359\\nnm14456790\\tFrancisco Garcia\\t\\\\N\\t\\\\N\\teditorial_department\\ttt21882076\\nnm04194634\\tJulie Valkova\\t\\\\N\\t\\\\N\\tactress\\ttt0924177\\ttt7058158\\ttt1321261\\t\\\\N\\nnm01602869\\tCecile Debise\\t\\\\N\\t\\\\N\\tcamera_department\\ttt0400907\\nnm02569288\\tJon Magnusson\\t\\\\N\\t\\\\N\\tactor\\ttt0365841\\nnm14069168\\tJudith Konig\\t1964\\t2022\\tactress\\ttt15301048\\nnm01041683\\tV. Sanchez Fierro\\t\\\\N\\t\\\\N\\tactor\\ttt0269014\\nnm01264092\\tGerd Rosch\\t\\\\N\\t\\\\N\\tcamera_department\\ttt0846838\\nnm10728669\\tPhilip Moller\\t\\\\N\\t\\\\N\\t\\t\\\\N\\nnm04306201\\tJakub Bystricky\\t\\\\N\\t\\\\N\\t\\ttt1354674\\ttt16283550\\t\\\\N\\t\\\\N\\nnm01254613\\tSebastian Landro\\t\\\\N\\t\\\\N\\tactor\\ttt0333128\\nnm08065212\\tNatalia Rojas Lema\\t\\\\N\\t\\\\N\\tactor\\ttt5627374\\nnm02732045\\tAki Saito\\t\\\\N\\t\\\\N\\tactress\\ttt0153340\\ttt4902866\\ttt6231718\\t\\\\N\\nnm01897122\\tFrancisco Fernandez\\t\\\\N\\t\\\\N\\tcamera_department\\ttt0111071\\nnm14524210\\tSergio Habibe\\t\\\\N\\t\\\\N\\t\\ttt14917992\\nnm09159004\\tAbdul Mouhaiminou Compaore\\t\\\\N\\t\\\\N\\twriter\\ttt7179930\\nnm02970883\\tAina Bergstrom\\t\\\\N\\t\\\\N\\tactress\\ttt0014324\\nnm11966417\\tJorg Hartwig\\t\\\\N\\t\\\\N\\tmiscellaneous\\ttt11421088\\nnm13657057\\tAde\\t\\\\N\\t\\\\N\\t\\t\\\\N\\nnm02462565\\tJohanna Naatsaari\\t\\\\N\\t\\\\N\\tactress\\ttt0099089'"
            ],
            "application/vnd.google.colaboratory.intrinsic+json": {
              "type": "string"
            }
          },
          "metadata": {},
          "execution_count": 62
        }
      ]
    },
    {
      "cell_type": "code",
      "source": [
        "df_6=pd.read_csv('https://pidgin.nyc3.digitaloceanspaces.com/coderbyte/python_tests/test3_0.tsv', delimiter='\\t', engine='python')"
      ],
      "metadata": {
        "id": "2kYXqYrZ0jA2"
      },
      "execution_count": null,
      "outputs": []
    },
    {
      "cell_type": "code",
      "source": [
        "df_6"
      ],
      "metadata": {
        "colab": {
          "base_uri": "https://localhost:8080/",
          "height": 424
        },
        "id": "itQ7HE0h0sIG",
        "outputId": "316e19cf-dc1d-460d-9d0d-02b13453a425"
      },
      "execution_count": null,
      "outputs": [
        {
          "output_type": "execute_result",
          "data": {
            "text/plain": [
              "        nconst                 primaryName birthYear deathYear  \\\n",
              "0   nm14316968               Wolfgang Goth        \\N        \\N   \n",
              "1   nm09194003      Rodrigo Lopez Gonzalez        \\N        \\N   \n",
              "2   nm11725718       Andres Mazaira Castro        \\N        \\N   \n",
              "3   nm11775638                 Ute Schonke        \\N        \\N   \n",
              "4   nm10029946          Can Sertac Adalier      1990        \\N   \n",
              "..         ...                         ...       ...       ...   \n",
              "95  nm09159004  Abdul Mouhaiminou Compaore        \\N        \\N   \n",
              "96  nm02970883              Aina Bergstrom        \\N        \\N   \n",
              "97  nm11966417                Jorg Hartwig        \\N        \\N   \n",
              "98  nm13657057                         Ade        \\N        \\N   \n",
              "99  nm02462565           Johanna Naatsaari        \\N        \\N   \n",
              "\n",
              "   primaryProfession                             knownForTitles  \n",
              "0                NaN                                 tt15276092  \n",
              "1              actor                                  tt7207232  \n",
              "2                NaN                                         \\N  \n",
              "3            actress                                  tt0846838  \n",
              "4              actor  tt6137086,tt13708016,tt1886531,tt14639598  \n",
              "..               ...                                        ...  \n",
              "95            writer                                  tt7179930  \n",
              "96           actress                                  tt0014324  \n",
              "97     miscellaneous                                 tt11421088  \n",
              "98               NaN                                         \\N  \n",
              "99           actress                                  tt0099089  \n",
              "\n",
              "[100 rows x 6 columns]"
            ],
            "text/html": [
              "\n",
              "  <div id=\"df-ee60e220-ee90-43e0-a96e-c7d5bdc049eb\">\n",
              "    <div class=\"colab-df-container\">\n",
              "      <div>\n",
              "<style scoped>\n",
              "    .dataframe tbody tr th:only-of-type {\n",
              "        vertical-align: middle;\n",
              "    }\n",
              "\n",
              "    .dataframe tbody tr th {\n",
              "        vertical-align: top;\n",
              "    }\n",
              "\n",
              "    .dataframe thead th {\n",
              "        text-align: right;\n",
              "    }\n",
              "</style>\n",
              "<table border=\"1\" class=\"dataframe\">\n",
              "  <thead>\n",
              "    <tr style=\"text-align: right;\">\n",
              "      <th></th>\n",
              "      <th>nconst</th>\n",
              "      <th>primaryName</th>\n",
              "      <th>birthYear</th>\n",
              "      <th>deathYear</th>\n",
              "      <th>primaryProfession</th>\n",
              "      <th>knownForTitles</th>\n",
              "    </tr>\n",
              "  </thead>\n",
              "  <tbody>\n",
              "    <tr>\n",
              "      <th>0</th>\n",
              "      <td>nm14316968</td>\n",
              "      <td>Wolfgang Goth</td>\n",
              "      <td>\\N</td>\n",
              "      <td>\\N</td>\n",
              "      <td>NaN</td>\n",
              "      <td>tt15276092</td>\n",
              "    </tr>\n",
              "    <tr>\n",
              "      <th>1</th>\n",
              "      <td>nm09194003</td>\n",
              "      <td>Rodrigo Lopez Gonzalez</td>\n",
              "      <td>\\N</td>\n",
              "      <td>\\N</td>\n",
              "      <td>actor</td>\n",
              "      <td>tt7207232</td>\n",
              "    </tr>\n",
              "    <tr>\n",
              "      <th>2</th>\n",
              "      <td>nm11725718</td>\n",
              "      <td>Andres Mazaira Castro</td>\n",
              "      <td>\\N</td>\n",
              "      <td>\\N</td>\n",
              "      <td>NaN</td>\n",
              "      <td>\\N</td>\n",
              "    </tr>\n",
              "    <tr>\n",
              "      <th>3</th>\n",
              "      <td>nm11775638</td>\n",
              "      <td>Ute Schonke</td>\n",
              "      <td>\\N</td>\n",
              "      <td>\\N</td>\n",
              "      <td>actress</td>\n",
              "      <td>tt0846838</td>\n",
              "    </tr>\n",
              "    <tr>\n",
              "      <th>4</th>\n",
              "      <td>nm10029946</td>\n",
              "      <td>Can Sertac Adalier</td>\n",
              "      <td>1990</td>\n",
              "      <td>\\N</td>\n",
              "      <td>actor</td>\n",
              "      <td>tt6137086,tt13708016,tt1886531,tt14639598</td>\n",
              "    </tr>\n",
              "    <tr>\n",
              "      <th>...</th>\n",
              "      <td>...</td>\n",
              "      <td>...</td>\n",
              "      <td>...</td>\n",
              "      <td>...</td>\n",
              "      <td>...</td>\n",
              "      <td>...</td>\n",
              "    </tr>\n",
              "    <tr>\n",
              "      <th>95</th>\n",
              "      <td>nm09159004</td>\n",
              "      <td>Abdul Mouhaiminou Compaore</td>\n",
              "      <td>\\N</td>\n",
              "      <td>\\N</td>\n",
              "      <td>writer</td>\n",
              "      <td>tt7179930</td>\n",
              "    </tr>\n",
              "    <tr>\n",
              "      <th>96</th>\n",
              "      <td>nm02970883</td>\n",
              "      <td>Aina Bergstrom</td>\n",
              "      <td>\\N</td>\n",
              "      <td>\\N</td>\n",
              "      <td>actress</td>\n",
              "      <td>tt0014324</td>\n",
              "    </tr>\n",
              "    <tr>\n",
              "      <th>97</th>\n",
              "      <td>nm11966417</td>\n",
              "      <td>Jorg Hartwig</td>\n",
              "      <td>\\N</td>\n",
              "      <td>\\N</td>\n",
              "      <td>miscellaneous</td>\n",
              "      <td>tt11421088</td>\n",
              "    </tr>\n",
              "    <tr>\n",
              "      <th>98</th>\n",
              "      <td>nm13657057</td>\n",
              "      <td>Ade</td>\n",
              "      <td>\\N</td>\n",
              "      <td>\\N</td>\n",
              "      <td>NaN</td>\n",
              "      <td>\\N</td>\n",
              "    </tr>\n",
              "    <tr>\n",
              "      <th>99</th>\n",
              "      <td>nm02462565</td>\n",
              "      <td>Johanna Naatsaari</td>\n",
              "      <td>\\N</td>\n",
              "      <td>\\N</td>\n",
              "      <td>actress</td>\n",
              "      <td>tt0099089</td>\n",
              "    </tr>\n",
              "  </tbody>\n",
              "</table>\n",
              "<p>100 rows × 6 columns</p>\n",
              "</div>\n",
              "      <button class=\"colab-df-convert\" onclick=\"convertToInteractive('df-ee60e220-ee90-43e0-a96e-c7d5bdc049eb')\"\n",
              "              title=\"Convert this dataframe to an interactive table.\"\n",
              "              style=\"display:none;\">\n",
              "        \n",
              "  <svg xmlns=\"http://www.w3.org/2000/svg\" height=\"24px\"viewBox=\"0 0 24 24\"\n",
              "       width=\"24px\">\n",
              "    <path d=\"M0 0h24v24H0V0z\" fill=\"none\"/>\n",
              "    <path d=\"M18.56 5.44l.94 2.06.94-2.06 2.06-.94-2.06-.94-.94-2.06-.94 2.06-2.06.94zm-11 1L8.5 8.5l.94-2.06 2.06-.94-2.06-.94L8.5 2.5l-.94 2.06-2.06.94zm10 10l.94 2.06.94-2.06 2.06-.94-2.06-.94-.94-2.06-.94 2.06-2.06.94z\"/><path d=\"M17.41 7.96l-1.37-1.37c-.4-.4-.92-.59-1.43-.59-.52 0-1.04.2-1.43.59L10.3 9.45l-7.72 7.72c-.78.78-.78 2.05 0 2.83L4 21.41c.39.39.9.59 1.41.59.51 0 1.02-.2 1.41-.59l7.78-7.78 2.81-2.81c.8-.78.8-2.07 0-2.86zM5.41 20L4 18.59l7.72-7.72 1.47 1.35L5.41 20z\"/>\n",
              "  </svg>\n",
              "      </button>\n",
              "      \n",
              "  <style>\n",
              "    .colab-df-container {\n",
              "      display:flex;\n",
              "      flex-wrap:wrap;\n",
              "      gap: 12px;\n",
              "    }\n",
              "\n",
              "    .colab-df-convert {\n",
              "      background-color: #E8F0FE;\n",
              "      border: none;\n",
              "      border-radius: 50%;\n",
              "      cursor: pointer;\n",
              "      display: none;\n",
              "      fill: #1967D2;\n",
              "      height: 32px;\n",
              "      padding: 0 0 0 0;\n",
              "      width: 32px;\n",
              "    }\n",
              "\n",
              "    .colab-df-convert:hover {\n",
              "      background-color: #E2EBFA;\n",
              "      box-shadow: 0px 1px 2px rgba(60, 64, 67, 0.3), 0px 1px 3px 1px rgba(60, 64, 67, 0.15);\n",
              "      fill: #174EA6;\n",
              "    }\n",
              "\n",
              "    [theme=dark] .colab-df-convert {\n",
              "      background-color: #3B4455;\n",
              "      fill: #D2E3FC;\n",
              "    }\n",
              "\n",
              "    [theme=dark] .colab-df-convert:hover {\n",
              "      background-color: #434B5C;\n",
              "      box-shadow: 0px 1px 3px 1px rgba(0, 0, 0, 0.15);\n",
              "      filter: drop-shadow(0px 1px 2px rgba(0, 0, 0, 0.3));\n",
              "      fill: #FFFFFF;\n",
              "    }\n",
              "  </style>\n",
              "\n",
              "      <script>\n",
              "        const buttonEl =\n",
              "          document.querySelector('#df-ee60e220-ee90-43e0-a96e-c7d5bdc049eb button.colab-df-convert');\n",
              "        buttonEl.style.display =\n",
              "          google.colab.kernel.accessAllowed ? 'block' : 'none';\n",
              "\n",
              "        async function convertToInteractive(key) {\n",
              "          const element = document.querySelector('#df-ee60e220-ee90-43e0-a96e-c7d5bdc049eb');\n",
              "          const dataTable =\n",
              "            await google.colab.kernel.invokeFunction('convertToInteractive',\n",
              "                                                     [key], {});\n",
              "          if (!dataTable) return;\n",
              "\n",
              "          const docLinkHtml = 'Like what you see? Visit the ' +\n",
              "            '<a target=\"_blank\" href=https://colab.research.google.com/notebooks/data_table.ipynb>data table notebook</a>'\n",
              "            + ' to learn more about interactive tables.';\n",
              "          element.innerHTML = '';\n",
              "          dataTable['output_type'] = 'display_data';\n",
              "          await google.colab.output.renderOutput(dataTable, element);\n",
              "          const docLink = document.createElement('div');\n",
              "          docLink.innerHTML = docLinkHtml;\n",
              "          element.appendChild(docLink);\n",
              "        }\n",
              "      </script>\n",
              "    </div>\n",
              "  </div>\n",
              "  "
            ]
          },
          "metadata": {},
          "execution_count": 64
        }
      ]
    }
  ]
}